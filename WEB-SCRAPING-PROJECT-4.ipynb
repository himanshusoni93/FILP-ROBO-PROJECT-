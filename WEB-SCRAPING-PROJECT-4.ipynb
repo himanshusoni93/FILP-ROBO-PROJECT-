{
 "cells": [
  {
   "cell_type": "markdown",
   "metadata": {},
   "source": [
    "# WEB-SCRAPING-PROJECT-4"
   ]
  },
  {
   "cell_type": "markdown",
   "metadata": {},
   "source": [
    "# Question-1\n",
    "\n",
    "### 1. Scrape the details of most viewed videos on YouTube from Wikipedia:\n",
    "\n",
    "* Url = https://en.wikipedia.org/wiki/List_of_most-viewed_YouTube_videos/ You need to find following details:\n",
    "* A) Rank\n",
    "* B) Name\n",
    "* C) Artist\n",
    "* D) Upload date\n",
    "* E) Views"
   ]
  },
  {
   "cell_type": "code",
   "execution_count": null,
   "metadata": {},
   "outputs": [],
   "source": [
    "## Import all the basic Libraries import requests\n",
    "\n",
    "import time\n",
    "import selenium\n",
    "import requests\n",
    "import pandas as pd\n",
    "from selenium import webdriver\n",
    "from bs4 import BeautifulSoup\n",
    "from selenium.webdriver.common.by import By\n",
    "from selenium.webdriver.common.keys import Keys\n",
    "from selenium.webdriver import ActionChains\n",
    "from selenium.common.exceptions import StaleElementReferenceException,NoSuchElementException,ElementNotInteractableException\n",
    "## lets connect with web driver \n",
    "\n",
    "#driver = webdriver.Chrome(r\"C:/Users/Acer/chromedriver/chromedriver.exe\")\n",
    "## spacifiying the url\n",
    "URL = \"https://en.wikipedia.org/wiki/List_of_most-viewed_YouTube_videos\"\n",
    "page = requests.get(URL)\n",
    "soup = BeautifulSoup(page.content, 'html.parser')\n",
    "tables = soup.find_all(\"table\")\n",
    "\n",
    "## scrap the tabuler data of the top 30 most view videos\n",
    "Top_View_table=tables[0]\n",
    "Top_View_data = [[cell.text for cell in row.find_all([\"th\",\"td\"])]\n",
    "                               for row in Top_View_table.find_all(\"tr\")]\n",
    "Top_View_df = pd.DataFrame(Top_View_data)\n",
    "#To move the first row to the headers, simply type\n",
    "Top_View_df.columns = Top_View_df.iloc[0,:]\n",
    "Top_View_df.drop(index=0,inplace=True)\n",
    "Top_View_df.head()"
   ]
  },
  {
   "cell_type": "code",
   "execution_count": null,
   "metadata": {},
   "outputs": [],
   "source": [
    "### removed the \"\\n\" in the cloumns name \n",
    "columns=[]\n",
    "for i in Top_View_df.columns:\n",
    "    columns.append(i.replace(\"\\n\",\"\"))\n",
    "Top_View_df.columns = columns\n",
    "### replace the first column name \n",
    "Top_View_df.rename(columns={\"No.\":\"Ranks\"},inplace=True)\n",
    "## Drop the last coulmn in the data set \n",
    "Top_View_df.drop('Note', inplace=True, axis=1)\n",
    "Top_View_df.head() ## print the top 5 "
   ]
  },
  {
   "cell_type": "code",
   "execution_count": null,
   "metadata": {},
   "outputs": [],
   "source": []
  },
  {
   "cell_type": "markdown",
   "metadata": {},
   "source": [
    "# Question-2\n",
    "\n",
    "### 2-Scrape the details team India’s international fixtures from bcci.tv. Url = https://www.bcci.tv/.\n",
    "### You need to find following details:\n",
    "* A) Match title (I.e. 1st ODI)\n",
    "* B) Series\n",
    "* C) Place\n",
    "* D) Date\n",
    "* E) Time"
   ]
  },
  {
   "cell_type": "code",
   "execution_count": 1,
   "metadata": {},
   "outputs": [
    {
     "ename": "SessionNotCreatedException",
     "evalue": "Message: session not created: This version of ChromeDriver only supports Chrome version 87\nCurrent browser version is 89.0.4389.82 with binary path C:\\Program Files\\Google\\Chrome\\Application\\chrome.exe\n",
     "output_type": "error",
     "traceback": [
      "\u001b[1;31m---------------------------------------------------------------------------\u001b[0m",
      "\u001b[1;31mSessionNotCreatedException\u001b[0m                Traceback (most recent call last)",
      "\u001b[1;32m<ipython-input-1-7905e6ea042f>\u001b[0m in \u001b[0;36m<module>\u001b[1;34m\u001b[0m\n\u001b[0;32m     13\u001b[0m \u001b[1;31m## lets connect with web driver\u001b[0m\u001b[1;33m\u001b[0m\u001b[1;33m\u001b[0m\u001b[1;33m\u001b[0m\u001b[0m\n\u001b[0;32m     14\u001b[0m \u001b[1;33m\u001b[0m\u001b[0m\n\u001b[1;32m---> 15\u001b[1;33m \u001b[0mdriver\u001b[0m \u001b[1;33m=\u001b[0m \u001b[0mwebdriver\u001b[0m\u001b[1;33m.\u001b[0m\u001b[0mChrome\u001b[0m\u001b[1;33m(\u001b[0m\u001b[1;34mr\"C:/Users/Acer/chromedriver/chromedriver.exe\"\u001b[0m\u001b[1;33m)\u001b[0m\u001b[1;33m\u001b[0m\u001b[1;33m\u001b[0m\u001b[0m\n\u001b[0m\u001b[0;32m     16\u001b[0m \u001b[1;33m\u001b[0m\u001b[0m\n\u001b[0;32m     17\u001b[0m \u001b[1;33m\u001b[0m\u001b[0m\n",
      "\u001b[1;32m~\\anaconda3\\lib\\site-packages\\selenium\\webdriver\\chrome\\webdriver.py\u001b[0m in \u001b[0;36m__init__\u001b[1;34m(self, executable_path, port, options, service_args, desired_capabilities, service_log_path, chrome_options, keep_alive)\u001b[0m\n\u001b[0;32m     74\u001b[0m \u001b[1;33m\u001b[0m\u001b[0m\n\u001b[0;32m     75\u001b[0m         \u001b[1;32mtry\u001b[0m\u001b[1;33m:\u001b[0m\u001b[1;33m\u001b[0m\u001b[1;33m\u001b[0m\u001b[0m\n\u001b[1;32m---> 76\u001b[1;33m             RemoteWebDriver.__init__(\n\u001b[0m\u001b[0;32m     77\u001b[0m                 \u001b[0mself\u001b[0m\u001b[1;33m,\u001b[0m\u001b[1;33m\u001b[0m\u001b[1;33m\u001b[0m\u001b[0m\n\u001b[0;32m     78\u001b[0m                 command_executor=ChromeRemoteConnection(\n",
      "\u001b[1;32m~\\anaconda3\\lib\\site-packages\\selenium\\webdriver\\remote\\webdriver.py\u001b[0m in \u001b[0;36m__init__\u001b[1;34m(self, command_executor, desired_capabilities, browser_profile, proxy, keep_alive, file_detector, options)\u001b[0m\n\u001b[0;32m    155\u001b[0m             warnings.warn(\"Please use FirefoxOptions to set browser profile\",\n\u001b[0;32m    156\u001b[0m                           DeprecationWarning, stacklevel=2)\n\u001b[1;32m--> 157\u001b[1;33m         \u001b[0mself\u001b[0m\u001b[1;33m.\u001b[0m\u001b[0mstart_session\u001b[0m\u001b[1;33m(\u001b[0m\u001b[0mcapabilities\u001b[0m\u001b[1;33m,\u001b[0m \u001b[0mbrowser_profile\u001b[0m\u001b[1;33m)\u001b[0m\u001b[1;33m\u001b[0m\u001b[1;33m\u001b[0m\u001b[0m\n\u001b[0m\u001b[0;32m    158\u001b[0m         \u001b[0mself\u001b[0m\u001b[1;33m.\u001b[0m\u001b[0m_switch_to\u001b[0m \u001b[1;33m=\u001b[0m \u001b[0mSwitchTo\u001b[0m\u001b[1;33m(\u001b[0m\u001b[0mself\u001b[0m\u001b[1;33m)\u001b[0m\u001b[1;33m\u001b[0m\u001b[1;33m\u001b[0m\u001b[0m\n\u001b[0;32m    159\u001b[0m         \u001b[0mself\u001b[0m\u001b[1;33m.\u001b[0m\u001b[0m_mobile\u001b[0m \u001b[1;33m=\u001b[0m \u001b[0mMobile\u001b[0m\u001b[1;33m(\u001b[0m\u001b[0mself\u001b[0m\u001b[1;33m)\u001b[0m\u001b[1;33m\u001b[0m\u001b[1;33m\u001b[0m\u001b[0m\n",
      "\u001b[1;32m~\\anaconda3\\lib\\site-packages\\selenium\\webdriver\\remote\\webdriver.py\u001b[0m in \u001b[0;36mstart_session\u001b[1;34m(self, capabilities, browser_profile)\u001b[0m\n\u001b[0;32m    250\u001b[0m         parameters = {\"capabilities\": w3c_caps,\n\u001b[0;32m    251\u001b[0m                       \"desiredCapabilities\": capabilities}\n\u001b[1;32m--> 252\u001b[1;33m         \u001b[0mresponse\u001b[0m \u001b[1;33m=\u001b[0m \u001b[0mself\u001b[0m\u001b[1;33m.\u001b[0m\u001b[0mexecute\u001b[0m\u001b[1;33m(\u001b[0m\u001b[0mCommand\u001b[0m\u001b[1;33m.\u001b[0m\u001b[0mNEW_SESSION\u001b[0m\u001b[1;33m,\u001b[0m \u001b[0mparameters\u001b[0m\u001b[1;33m)\u001b[0m\u001b[1;33m\u001b[0m\u001b[1;33m\u001b[0m\u001b[0m\n\u001b[0m\u001b[0;32m    253\u001b[0m         \u001b[1;32mif\u001b[0m \u001b[1;34m'sessionId'\u001b[0m \u001b[1;32mnot\u001b[0m \u001b[1;32min\u001b[0m \u001b[0mresponse\u001b[0m\u001b[1;33m:\u001b[0m\u001b[1;33m\u001b[0m\u001b[1;33m\u001b[0m\u001b[0m\n\u001b[0;32m    254\u001b[0m             \u001b[0mresponse\u001b[0m \u001b[1;33m=\u001b[0m \u001b[0mresponse\u001b[0m\u001b[1;33m[\u001b[0m\u001b[1;34m'value'\u001b[0m\u001b[1;33m]\u001b[0m\u001b[1;33m\u001b[0m\u001b[1;33m\u001b[0m\u001b[0m\n",
      "\u001b[1;32m~\\anaconda3\\lib\\site-packages\\selenium\\webdriver\\remote\\webdriver.py\u001b[0m in \u001b[0;36mexecute\u001b[1;34m(self, driver_command, params)\u001b[0m\n\u001b[0;32m    319\u001b[0m         \u001b[0mresponse\u001b[0m \u001b[1;33m=\u001b[0m \u001b[0mself\u001b[0m\u001b[1;33m.\u001b[0m\u001b[0mcommand_executor\u001b[0m\u001b[1;33m.\u001b[0m\u001b[0mexecute\u001b[0m\u001b[1;33m(\u001b[0m\u001b[0mdriver_command\u001b[0m\u001b[1;33m,\u001b[0m \u001b[0mparams\u001b[0m\u001b[1;33m)\u001b[0m\u001b[1;33m\u001b[0m\u001b[1;33m\u001b[0m\u001b[0m\n\u001b[0;32m    320\u001b[0m         \u001b[1;32mif\u001b[0m \u001b[0mresponse\u001b[0m\u001b[1;33m:\u001b[0m\u001b[1;33m\u001b[0m\u001b[1;33m\u001b[0m\u001b[0m\n\u001b[1;32m--> 321\u001b[1;33m             \u001b[0mself\u001b[0m\u001b[1;33m.\u001b[0m\u001b[0merror_handler\u001b[0m\u001b[1;33m.\u001b[0m\u001b[0mcheck_response\u001b[0m\u001b[1;33m(\u001b[0m\u001b[0mresponse\u001b[0m\u001b[1;33m)\u001b[0m\u001b[1;33m\u001b[0m\u001b[1;33m\u001b[0m\u001b[0m\n\u001b[0m\u001b[0;32m    322\u001b[0m             response['value'] = self._unwrap_value(\n\u001b[0;32m    323\u001b[0m                 response.get('value', None))\n",
      "\u001b[1;32m~\\anaconda3\\lib\\site-packages\\selenium\\webdriver\\remote\\errorhandler.py\u001b[0m in \u001b[0;36mcheck_response\u001b[1;34m(self, response)\u001b[0m\n\u001b[0;32m    240\u001b[0m                 \u001b[0malert_text\u001b[0m \u001b[1;33m=\u001b[0m \u001b[0mvalue\u001b[0m\u001b[1;33m[\u001b[0m\u001b[1;34m'alert'\u001b[0m\u001b[1;33m]\u001b[0m\u001b[1;33m.\u001b[0m\u001b[0mget\u001b[0m\u001b[1;33m(\u001b[0m\u001b[1;34m'text'\u001b[0m\u001b[1;33m)\u001b[0m\u001b[1;33m\u001b[0m\u001b[1;33m\u001b[0m\u001b[0m\n\u001b[0;32m    241\u001b[0m             \u001b[1;32mraise\u001b[0m \u001b[0mexception_class\u001b[0m\u001b[1;33m(\u001b[0m\u001b[0mmessage\u001b[0m\u001b[1;33m,\u001b[0m \u001b[0mscreen\u001b[0m\u001b[1;33m,\u001b[0m \u001b[0mstacktrace\u001b[0m\u001b[1;33m,\u001b[0m \u001b[0malert_text\u001b[0m\u001b[1;33m)\u001b[0m\u001b[1;33m\u001b[0m\u001b[1;33m\u001b[0m\u001b[0m\n\u001b[1;32m--> 242\u001b[1;33m         \u001b[1;32mraise\u001b[0m \u001b[0mexception_class\u001b[0m\u001b[1;33m(\u001b[0m\u001b[0mmessage\u001b[0m\u001b[1;33m,\u001b[0m \u001b[0mscreen\u001b[0m\u001b[1;33m,\u001b[0m \u001b[0mstacktrace\u001b[0m\u001b[1;33m)\u001b[0m\u001b[1;33m\u001b[0m\u001b[1;33m\u001b[0m\u001b[0m\n\u001b[0m\u001b[0;32m    243\u001b[0m \u001b[1;33m\u001b[0m\u001b[0m\n\u001b[0;32m    244\u001b[0m     \u001b[1;32mdef\u001b[0m \u001b[0m_value_or_default\u001b[0m\u001b[1;33m(\u001b[0m\u001b[0mself\u001b[0m\u001b[1;33m,\u001b[0m \u001b[0mobj\u001b[0m\u001b[1;33m,\u001b[0m \u001b[0mkey\u001b[0m\u001b[1;33m,\u001b[0m \u001b[0mdefault\u001b[0m\u001b[1;33m)\u001b[0m\u001b[1;33m:\u001b[0m\u001b[1;33m\u001b[0m\u001b[1;33m\u001b[0m\u001b[0m\n",
      "\u001b[1;31mSessionNotCreatedException\u001b[0m: Message: session not created: This version of ChromeDriver only supports Chrome version 87\nCurrent browser version is 89.0.4389.82 with binary path C:\\Program Files\\Google\\Chrome\\Application\\chrome.exe\n"
     ]
    }
   ],
   "source": [
    "## Import all the basic Libraries import requests\n",
    "\n",
    "import time\n",
    "import selenium\n",
    "import requests\n",
    "import pandas as pd\n",
    "from selenium import webdriver\n",
    "from bs4 import BeautifulSoup\n",
    "from selenium.webdriver.common.by import By\n",
    "from selenium.webdriver.common.keys import Keys\n",
    "from selenium.webdriver import ActionChains\n",
    "from selenium.common.exceptions import StaleElementReferenceException,NoSuchElementException,ElementNotInteractableException\n",
    "## lets connect with web driver \n",
    "\n",
    "driver = webdriver.Chrome(r\"C:/Users/Acer/chromedriver/chromedriver.exe\")\n",
    "\n",
    "\n",
    "## spacifiying the url\n",
    "\n",
    "Url= \"https://www.bcci.tv/international/fixtures\"\n",
    "## lets open the web page through our web page \n",
    "driver.get(Url)\n",
    "\n",
    "### creating data frame \n",
    "\n",
    "Match_title = []\n",
    "Series = []\n",
    "Place = []\n",
    "Date = []\n",
    "Time = []\n",
    "Month =[]\n"
   ]
  },
  {
   "cell_type": "code",
   "execution_count": null,
   "metadata": {},
   "outputs": [],
   "source": [
    "Match_title_tag = driver.find_elements_by_xpath('//strong[@class=\"fixture__name fixture__name--with-margin\"]') ## for Smartphone_name\n",
    "for i in Match_title_tag:\n",
    "    try :#exception handling for nosuchelementexception\n",
    "        Match_title.append(i.text) \n",
    "    except NoSuchElementException   as e:\n",
    "        Match_title.append(\"--\")\n",
    "\n",
    "Match_title[0:5]"
   ]
  },
  {
   "cell_type": "code",
   "execution_count": null,
   "metadata": {},
   "outputs": [],
   "source": [
    "Series_tag = driver.find_elements_by_xpath('//span[@class=\"u-unskewed-text fixture__tournament-label u-truncated\"]') ## for Smartphone_name\n",
    "for i in Series_tag:\n",
    "    try :#exception handling for nosuchelementexception\n",
    "        Series.append(i.text) \n",
    "    except NoSuchElementException   as e:\n",
    "        Series.append(\"--\")\n",
    "\n",
    "Series[0:5]"
   ]
  },
  {
   "cell_type": "code",
   "execution_count": null,
   "metadata": {},
   "outputs": [],
   "source": [
    "Place_tag = driver.find_elements_by_xpath('//p[@class=\"fixture__additional-info\"]/span') ## for Smartphone_name\n",
    "for i in Place_tag:\n",
    "    try :#exception handling for nosuchelementexception\n",
    "        Place.append(i.text) \n",
    "    except NoSuchElementException   as e:\n",
    "        Place.append(\"--\")\n",
    "\n",
    "Place[0:5]"
   ]
  },
  {
   "cell_type": "code",
   "execution_count": null,
   "metadata": {},
   "outputs": [],
   "source": [
    "Date_tag = driver.find_elements_by_xpath('//span[@class=\"fixture__date\"]') ## for Smartphone_name\n",
    "for i in Date_tag:\n",
    "    try :#exception handling for nosuchelementexception\n",
    "        Date.append(i.text) \n",
    "    except NoSuchElementException   as e:\n",
    "        Date.append(\"--\")\n",
    "\n",
    "Date[0:5]"
   ]
  },
  {
   "cell_type": "code",
   "execution_count": null,
   "metadata": {},
   "outputs": [],
   "source": [
    "Month_tag = driver.find_elements_by_xpath('//span[@class=\"fixture__month\"]') ## for Smartphone_name\n",
    "for i in Month_tag:\n",
    "    try :#exception handling for nosuchelementexception\n",
    "        Month.append(i.text) \n",
    "    except NoSuchElementException   as e:\n",
    "        Month.append(\"--\")\n",
    "\n",
    "Month[0:5]"
   ]
  },
  {
   "cell_type": "code",
   "execution_count": null,
   "metadata": {},
   "outputs": [],
   "source": [
    "Time_tag = driver.find_elements_by_xpath('//span[@class=\"fixture__time\"]') ## for Smartphone_name\n",
    "for i in Time_tag:\n",
    "    try :#exception handling for nosuchelementexception\n",
    "        Time.append(i.text) \n",
    "    except NoSuchElementException   as e:\n",
    "        Time.append(\"--\")\n",
    "\n",
    "Time[0:5]"
   ]
  },
  {
   "cell_type": "code",
   "execution_count": null,
   "metadata": {},
   "outputs": [],
   "source": [
    "## Creating the Data fame \n",
    "\n",
    "BCCI_df = pd.DataFrame({})\n",
    "BCCI_df[\"Match_title\"]= Match_title\n",
    "BCCI_df[\"Series\"]= Series\n",
    "BCCI_df[\"Place\"] = Place\n",
    "BCCI_df[\"Date\"] =  Date\n",
    "BCCI_df[\"Month\"] = Month\n",
    "BCCI_df[\"Time\"] = Time\n",
    "\n",
    "BCCI_df.head()"
   ]
  },
  {
   "cell_type": "markdown",
   "metadata": {},
   "source": [
    "# Question-3\n",
    "\n",
    "### Scrape the details of selenium exception from guru99.com. Url = https://www.guru99.com/\n",
    "### You need to find following details:\n",
    "* A) Name\n",
    "* B) Description\n",
    "### Note: - From guru99 home page you have to reach to selenium exception handling page through code."
   ]
  },
  {
   "cell_type": "code",
   "execution_count": null,
   "metadata": {},
   "outputs": [],
   "source": [
    "## Import all the basic Libraries import requests\n",
    "\n",
    "import time\n",
    "import selenium\n",
    "import requests\n",
    "import pandas as pd\n",
    "from selenium import webdriver\n",
    "from bs4 import BeautifulSoup\n",
    "from selenium.webdriver.common.by import By\n",
    "from selenium.webdriver.common.keys import Keys\n",
    "from selenium.webdriver import ActionChains\n",
    "from selenium.common.exceptions import StaleElementReferenceException,NoSuchElementException,ElementNotInteractableException\n",
    "## lets connect with web driver \n",
    "\n",
    "driver = webdriver.Chrome(r\"C:/Users/Acer/chromedriver/chromedriver.exe\")\n",
    "## spacifiying the url\n",
    "Url= \"https://www.guru99.com/\"\n",
    "## lets open the web page through our web page \n",
    "driver.get(Url)\n",
    "time.sleep(4)\n",
    "### click in the selenium button \n",
    "driver.find_element_by_xpath('//*[@title=\"Selenium\"]').click()\n",
    "time.sleep(4)\n",
    "driver.find_element_by_xpath('//*[@id=\"g-mainbar\"]/div/div/div/div/div/div/div[2]/table[5]/tbody/tr[34]/td[1]').click()"
   ]
  },
  {
   "cell_type": "code",
   "execution_count": null,
   "metadata": {},
   "outputs": [],
   "source": [
    "url_string = driver.current_url\n",
    "print(\"URL Extracted: \", url_string)"
   ]
  },
  {
   "cell_type": "code",
   "execution_count": null,
   "metadata": {},
   "outputs": [],
   "source": [
    "## Using the BeautifulSoup for extect the Table\n",
    "\n",
    "page = requests.get(url_string)\n",
    "soup = BeautifulSoup(page.content, 'html.parser')\n",
    "tables = soup.find_all(\"table\")\n",
    "\n",
    "## scrap the tabuler data and find following details A) Name B) Description\n",
    "Common_Exceptions_table=tables[0]\n",
    "Common_Exceptions_table_data = [[cell.text for cell in row.find_all([\"th\",\"td\"])]\n",
    "                               for row in Common_Exceptions_table.find_all(\"tr\")]\n",
    "\n",
    "Common_Exceptions_table_data_df = pd.DataFrame(Common_Exceptions_table_data)\n",
    "#To move the first row to the headers, simply type\n",
    "Common_Exceptions_table_data_df.columns = Common_Exceptions_table_data_df.iloc[0,:]\n",
    "Common_Exceptions_table_data_df.drop(index=0,inplace=True)\n",
    "Common_Exceptions_table_data_df.head()"
   ]
  },
  {
   "cell_type": "markdown",
   "metadata": {},
   "source": [
    "# Question:-4\n",
    "### Scrape the details of State-wise GDP of India from statisticstime.com. Url = http://statisticstimes.com/\n",
    "### You have to find following details:\n",
    "* A) Rank\n",
    "* B) State\n",
    "* C) GSDP(18-19)\n",
    "* D) GSDP(17-18)\n",
    "* E) Share(2017)\n",
    "* F) GDP($ billion)\n",
    "## Note: - From statisticstimes home page you have to reach to economy page through code."
   ]
  },
  {
   "cell_type": "code",
   "execution_count": null,
   "metadata": {},
   "outputs": [],
   "source": [
    "## Import all the basic Libraries import requests\n",
    "\n",
    "import time\n",
    "import selenium\n",
    "import requests\n",
    "import pandas as pd\n",
    "from selenium import webdriver\n",
    "from bs4 import BeautifulSoup\n",
    "from selenium.webdriver.common.by import By\n",
    "from selenium.webdriver.common.keys import Keys\n",
    "from selenium.webdriver import ActionChains\n",
    "from selenium.common.exceptions import StaleElementReferenceException,NoSuchElementException,ElementNotInteractableException\n",
    "## lets connect with web driver \n",
    "\n",
    "driver = webdriver.Chrome(r\"C:/Users/Acer/chromedriver/chromedriver.exe\")\n",
    "## spacifiying the url\n",
    "Url= \"http://statisticstimes.com/\"\n",
    "## lets open the web page through our web page \n",
    "driver.get(Url)\n",
    "time.sleep(4)\n",
    "## Click on the economy page\n",
    "## Click on the economy page\n",
    "URL=driver.find_element_by_xpath('//*[@id=\"top\"]/div[2]/div[2]/div/a[3]').get_attribute(\"href\")\n",
    "driver.get(URL)\n",
    "time.sleep(3)\n",
    "driver.get(driver.find_element_by_xpath('/html/body/div[2]/div[2]/div[2]/ul/li[1]/a').get_attribute(\"href\"))\n"
   ]
  },
  {
   "cell_type": "code",
   "execution_count": null,
   "metadata": {},
   "outputs": [],
   "source": [
    "final_URL = driver.current_url\n",
    "print(\"Final_URL\",final_URL)\n",
    "## Using the BeautifulSoup for extect the Table\n",
    "\n",
    "page = requests.get(final_URL)\n",
    "soup = BeautifulSoup(page.content, 'html.parser')\n",
    "GDP_tables = soup.find_all(\"table\")\n",
    "\n",
    "## scrap the tabuler data and find following details A) Name B) Description\n",
    "GDPS_table=GDP_tables[1]\n",
    "GDPS_table_data = [[cell.text for cell in row.find_all([\"th\",\"td\"])]\n",
    "                               for row in GDPS_table.find_all(\"tr\")]\n",
    "\n",
    "## creating the dataframe \n",
    "GDPS_table_data_df = pd.DataFrame(GDPS_table_data,columns=[\"Rank\",\"State\",\"GSDP(CrINR_current prices)(19-20)\", \"GSDP(CrINR_current prices)(18-19)\",\"Share\",\"GDP($billion)\",\"GSDP (Cr INR at 2011-12 prices)(19-20)\",\"GSDP (Cr INR at 2011-12 prices)(18-19)\"])\n",
    "GDPS_table_data_df.drop([0, 1],inplace=True)\n",
    "GDPS_table_data_df"
   ]
  },
  {
   "cell_type": "code",
   "execution_count": null,
   "metadata": {},
   "outputs": [],
   "source": [
    "GDPS_table_data_df"
   ]
  },
  {
   "cell_type": "markdown",
   "metadata": {},
   "source": [
    "# Question-5\n",
    "\n",
    "### Scrape the details of trending repositories on Github.com. Url = https://github.com/\n",
    "### You have to find the following details:\n",
    "* A) Repository title\n",
    "* B) Repository description\n",
    "* C) Contributors count\n",
    "* D) Language used"
   ]
  },
  {
   "cell_type": "code",
   "execution_count": null,
   "metadata": {},
   "outputs": [],
   "source": [
    "## Import all the basic Libraries import requests\n",
    "\n",
    "import time\n",
    "import selenium\n",
    "import requests\n",
    "import pandas as pd\n",
    "from selenium import webdriver\n",
    "from bs4 import BeautifulSoup\n",
    "from selenium.webdriver.common.by import By\n",
    "from selenium.webdriver.common.keys import Keys\n",
    "from selenium.webdriver import ActionChains\n",
    "from selenium.common.exceptions import StaleElementReferenceException,NoSuchElementException,ElementNotInteractableException\n",
    "## lets connect with web driver \n",
    "\n",
    "driver = webdriver.Chrome(r\"C:/Users/Acer/chromedriver/chromedriver.exe\")\n",
    "## spacifiying the url\n",
    "Url= \" https://github.com/\"\n",
    "## lets open the web page through our web page \n",
    "driver.get(Url)\n",
    "time.sleep(3)\n"
   ]
  },
  {
   "cell_type": "code",
   "execution_count": null,
   "metadata": {},
   "outputs": [],
   "source": [
    "Tranding = driver.find_element_by_xpath(\"/html/body/div[1]/header/div/div[2]/nav/ul/li[4]/details/div/ul[2]/li[3]/a\")\n",
    "URl = Tranding.get_attribute(\"href\")\n",
    "driver.get(URl)"
   ]
  },
  {
   "cell_type": "code",
   "execution_count": null,
   "metadata": {},
   "outputs": [],
   "source": [
    "time.sleep(3)\n",
    "## creating Empty list\n",
    "Repository_title = []\n",
    "Repository_description = []\n",
    "Contributors_count = []\n",
    "Language_used = []\n"
   ]
  },
  {
   "cell_type": "code",
   "execution_count": null,
   "metadata": {},
   "outputs": [],
   "source": [
    "## Repository_title\n",
    "\n",
    "Repository_title_tag = driver.find_elements_by_xpath('//h1[@class=\"h3 lh-condensed\"]')\n",
    "for i in Repository_title_tag:\n",
    "    Repository_title.append(i.text)\n",
    "Repository_title[0:5]    "
   ]
  },
  {
   "cell_type": "code",
   "execution_count": null,
   "metadata": {},
   "outputs": [],
   "source": [
    "### Repository_description\n",
    "\n",
    "Repository_description_tag = driver.find_elements_by_xpath('//p[@class=\"col-9 text-gray my-1 pr-4\"]')\n",
    "for i in Repository_description_tag:\n",
    "    Repository_description.append(i.text)\n",
    "Repository_description[0:5]    "
   ]
  },
  {
   "cell_type": "code",
   "execution_count": null,
   "metadata": {},
   "outputs": [],
   "source": [
    "### Repository_description\n",
    "\n",
    "Language_used_tag = driver.find_elements_by_xpath('//span[@itemprop=\"programmingLanguage\"]')\n",
    "for i in Language_used_tag:\n",
    "    Language_used.append(i.text)\n",
    "Language_used[0:5]    "
   ]
  },
  {
   "cell_type": "code",
   "execution_count": null,
   "metadata": {},
   "outputs": [],
   "source": [
    "### Contributors_count\n",
    "\n",
    "Contributors_count_tag = driver.find_elements_by_xpath('//a[@class=\"muted-link d-inline-block mr-3\"]')\n",
    "for i in Contributors_count_tag:\n",
    "    Contributors_count.append(i.text)\n",
    "Contributors_count[0:5] "
   ]
  },
  {
   "cell_type": "code",
   "execution_count": null,
   "metadata": {},
   "outputs": [],
   "source": [
    "git_df = pd.DataFrame({})\n",
    "git_df[\"Repository_title\"] = Repository_title[0:20]\n",
    "git_df[\"Repository_description\"] = Repository_description[0:20]\n",
    "git_df[\"Language_used\"] = Language_used[0:20]\n",
    "git_df[\"Contributors_count\"] = Contributors_count[0:20]\n",
    "git_df.head()"
   ]
  },
  {
   "cell_type": "markdown",
   "metadata": {},
   "source": [
    "# Question-6\n",
    "\n",
    "### Scrape the details of top 100 songs on billiboard.com. Url = https://www.billiboard.com/\n",
    "### You have to find the following details:\n",
    "* A) Song name\n",
    "* B) Artist name\n",
    "* C) Last week rank\n",
    "* D) Peak rank\n",
    "* E) Weeks on board\n",
    "### Note: - From the home page you have to click on the charts option then hot 100-page link through code"
   ]
  },
  {
   "cell_type": "code",
   "execution_count": null,
   "metadata": {},
   "outputs": [],
   "source": [
    "# Import all the basic Libraries import requests\n",
    "\n",
    "import time\n",
    "import selenium\n",
    "import requests\n",
    "import pandas as pd\n",
    "from selenium import webdriver\n",
    "from bs4 import BeautifulSoup\n",
    "from selenium.webdriver.common.by import By\n",
    "from selenium.webdriver.common.keys import Keys\n",
    "from selenium.webdriver import ActionChains\n",
    "from selenium.common.exceptions import StaleElementReferenceException,NoSuchElementException,ElementNotInteractableException\n",
    "## lets connect with web driver \n",
    "\n",
    "driver = webdriver.Chrome(r\"C:/Users/Acer/chromedriver/chromedriver.exe\")\n",
    "## spacifiying the url\n",
    "Url=  \"https://www.billboard.com/\"\n",
    "## lets open the web page through our web page \n",
    "driver.get(Url)\n"
   ]
  },
  {
   "cell_type": "code",
   "execution_count": null,
   "metadata": {},
   "outputs": [],
   "source": [
    "HOT_100 = driver.find_element_by_xpath('//ul[@class=\"header__subnav__list display--flex flex--left-center flex-md--center-center\"]/li[3]/a')\n",
    "driver.get(HOT_100.get_attribute(\"href\"))"
   ]
  },
  {
   "cell_type": "code",
   "execution_count": null,
   "metadata": {},
   "outputs": [],
   "source": [
    "Song_Titel = []\n",
    "Artist_Band_Name = []\n",
    "Last_week_rank= []\n",
    "Peak_rank= []\n",
    "Weeks_on_board= []"
   ]
  },
  {
   "cell_type": "code",
   "execution_count": null,
   "metadata": {},
   "outputs": [],
   "source": [
    "### extrect the Song_Titel \n",
    "Song_Titel_tag = driver.find_elements_by_xpath(\"//span[@class='chart-element__information__song text--truncate color--primary']\")\n",
    "for i in Song_Titel_tag:\n",
    "    Song_Titel.append(i.text)\n",
    "    \n",
    "Song_Titel[0:5]"
   ]
  },
  {
   "cell_type": "code",
   "execution_count": null,
   "metadata": {},
   "outputs": [],
   "source": [
    "### extrect the Artist_Band_Name \n",
    "Artist_Band_Name_tag = driver.find_elements_by_xpath(\"//span[@class='chart-element__information__artist text--truncate color--secondary']\")\n",
    "for i in Artist_Band_Name_tag:\n",
    "    Artist_Band_Name.append(i.text)\n",
    "    \n",
    "Artist_Band_Name[0:5]"
   ]
  },
  {
   "cell_type": "code",
   "execution_count": null,
   "metadata": {},
   "outputs": [],
   "source": [
    "### extrect the Last_week_rank\n",
    "Last_week_rank_tag = driver.find_elements_by_xpath(\"//span[@class='chart-element__meta text--center color--secondary text--last']\")\n",
    "for i in Last_week_rank_tag:\n",
    "    Last_week_rank.append(i.text)\n",
    "    \n",
    "Last_week_rank[0:5]"
   ]
  },
  {
   "cell_type": "code",
   "execution_count": null,
   "metadata": {},
   "outputs": [],
   "source": [
    "### extrect the Last_week_rank\n",
    "Peak_rank_tag = driver.find_elements_by_xpath(\"//span[@class='chart-element__meta text--center color--secondary text--peak']\")\n",
    "for i in Peak_rank_tag:\n",
    "    Peak_rank.append(i.text)\n",
    "    \n",
    "Peak_rank[0:5]"
   ]
  },
  {
   "cell_type": "code",
   "execution_count": null,
   "metadata": {},
   "outputs": [],
   "source": [
    "### extrect the Last_week_rank\n",
    "Weeks_on_board_tag = driver.find_elements_by_xpath(\"//span[@class='chart-element__meta text--center color--secondary text--week']\")\n",
    "for i in Weeks_on_board_tag:\n",
    "    Weeks_on_board.append(i.text)\n",
    "    \n",
    "Weeks_on_board[0:5]"
   ]
  },
  {
   "cell_type": "code",
   "execution_count": null,
   "metadata": {},
   "outputs": [],
   "source": [
    "## creating dataframe\n",
    "Top_100_songs_df = pd.DataFrame({})\n",
    "Top_100_songs_df[\"Song_Titel\"] = Song_Titel\n",
    "Top_100_songs_df[\"Artist_Band_Name\"] = Artist_Band_Name\n",
    "Top_100_songs_df[\"Last_week_rank\"] = Last_week_rank\n",
    "Top_100_songs_df[\"Peak_rank\"] = Peak_rank\n",
    "Top_100_songs_df[\"Weeks_on_board\"] = Weeks_on_board"
   ]
  },
  {
   "cell_type": "code",
   "execution_count": null,
   "metadata": {},
   "outputs": [],
   "source": [
    "Top_100_songs_df.head()"
   ]
  },
  {
   "cell_type": "markdown",
   "metadata": {},
   "source": [
    "# Question-7\n",
    "\n",
    "### Scrape the details of Data science recruiters from naukri.com. Url = https://www.naukri.com/\n",
    "### You have to find the following details:\n",
    "* A) Name\n",
    "* B) Designation\n",
    "* C) Company\n",
    "* D) Skills they hire for\n",
    "* E) Location\n",
    "### Note:- From naukri.com homepage click on the recruiters option and the on the search pane type Data science and click on \n",
    "### search. All this should be done through code"
   ]
  },
  {
   "cell_type": "code",
   "execution_count": null,
   "metadata": {},
   "outputs": [],
   "source": [
    "import time\n",
    "import pandas as pd\n",
    "from selenium import webdriver\n",
    "from selenium.webdriver.common.by import By\n",
    "from selenium.common.exceptions import StaleElementReferenceException,NoSuchElementException,ElementNotInteractableException\n",
    "\n",
    "## lets connect with web driver \n",
    "\n",
    "driver = webdriver.Chrome(r\"C:/Users/Acer/chromedriver/chromedriver.exe\")\n",
    "\n",
    "## spacifiying the url\n",
    "Url=\"https://www.naukri.com/\"\n",
    "## lets open the web page through our web page \n",
    "driver.get(Url)\n",
    "\n",
    "## check the All input box ir the page\n",
    "inputboxs = driver.find_elements(By.CLASS_NAME,\"sugInp\")\n",
    "print(len(inputboxs))\n",
    "\n",
    "## Enter “Data Scientist” in “Skill,Designations,Companies” field \n",
    "\n",
    "driver.find_element_by_xpath(\"/html/body/div[1]/div[3]/div[2]/section/div/form/div[1]/div/div/div/div[1]/div[2]/input\").send_keys(\"Data Scientist\")\n",
    "\n",
    "# now click the search button.\n",
    "\n",
    "driver.find_element_by_xpath(\"/html/body/div[1]/div[3]/div[2]/section/div/form/div[3]/button\").click()\n",
    "time.sleep(3)\n",
    "\n",
    "    \n",
    "## create the 4 empty lists\n",
    "\n",
    "jobs_title=[]\n",
    "companies_name=[]\n",
    "job_location=[]\n",
    "expriences=[]\n",
    "Skills = []"
   ]
  },
  {
   "cell_type": "code",
   "execution_count": null,
   "metadata": {},
   "outputs": [],
   "source": [
    "for i in range(0,5):\n",
    "    jobs_tag=driver.find_elements_by_xpath('//a[@class=\"title fw500 ellipsis\"]') # for join titles\n",
    "    for i in jobs_tag:\n",
    "        try:\n",
    "            jobs_title.append(i.text)\n",
    "        except NoSuchElementException   as e:\n",
    "            jobs_title.append(\"--\")\n",
    "        \n",
    "    companies_tag=driver.find_elements_by_xpath('//a[@class=\"subTitle ellipsis fleft\"]') # for companies names \n",
    "    for i in companies_tag:\n",
    "        try:\n",
    "            companies_name.append(i.text)\n",
    "        except NoSuchElementException   as e:\n",
    "            companies_name.append(\"--\")\n",
    "        \n",
    "    locations_tag=driver.find_elements_by_xpath('//li[@class=\"fleft grey-text br2 placeHolderLi location\"]/span[1]') # for location names\n",
    "    for i in locations_tag:\n",
    "        try:\n",
    "            job_location.append(i.text)\n",
    "        except NoSuchElementException   as e:\n",
    "            job_location.append(\"--\")\n",
    "        \n",
    "    expriences_tag=driver.find_elements_by_xpath('//li[@class=\"fleft grey-text br2 placeHolderLi experience\"]/span[1]') # for year of expriences\n",
    "    for i in expriences_tag:\n",
    "        try:\n",
    "            expriences.append(i.text)\n",
    "        except NoSuchElementException   as e:\n",
    "            expriences.append(\"--\")\n",
    "    \n",
    "    Skills_tag=driver.find_elements_by_xpath('//ul[@class=\"tags has-description\"]') # for Skills\n",
    "    for i in Skills_tag:\n",
    "        try:\n",
    "            Skills.append(i.text.replace(\"\\n\",\",\").replace(\"IT Skills,\",\"\"))\n",
    "        except NoSuchElementException   as e:\n",
    "            Skills.append(\"--\")\n",
    "    driver.find_element_by_xpath(\"//div[@class='pagination mt-64 mb-60']/a[2]\").click()\n",
    "    time.sleep(4)\n",
    "\n",
    "## print the length of all the lists\n",
    "print(len(jobs_title),len(companies_name),len(job_location),len(expriences),len(Skills))\n"
   ]
  },
  {
   "cell_type": "code",
   "execution_count": null,
   "metadata": {},
   "outputs": [],
   "source": [
    "## create the dataframe \n",
    "\n",
    "import pandas as pd\n",
    "\n",
    "Naukri_jobs = pd.DataFrame({})\n",
    "Naukri_jobs[\"jobs_title\"]=jobs_title\n",
    "Naukri_jobs[\"companies_name\"]=companies_name\n",
    "Naukri_jobs[\"locations_name\"]=job_location\n",
    "Naukri_jobs[\"expriences_year\"]=expriences\n",
    "Naukri_jobs[\"Skills\"]=Skills[0:100]\n",
    "\n",
    "Naukri_jobs.head()"
   ]
  },
  {
   "cell_type": "markdown",
   "metadata": {},
   "source": [
    "# QUESTION- 8\n",
    "\n",
    "### Scrape the details of Highest selling novels.\n",
    "#### Url = https://www.theguardian.com/news/datablog/2012/aug/09/best-selling-books-all-time-fifty-shades-grey-compare\n",
    "#### You have to find the following details:\n",
    "* A) Book name\n",
    "* B) Author name\n",
    "* C) Volumes sold\n",
    "* D) Publisher\n",
    "* E) Genre"
   ]
  },
  {
   "cell_type": "markdown",
   "metadata": {},
   "source": []
  },
  {
   "cell_type": "code",
   "execution_count": null,
   "metadata": {},
   "outputs": [],
   "source": [
    "# Import all the basic Libraries import requests\n",
    "\n",
    "import time\n",
    "import selenium\n",
    "import requests\n",
    "import pandas as pd\n",
    "from selenium import webdriver\n",
    "from bs4 import BeautifulSoup\n",
    "from selenium.webdriver.common.by import By\n",
    "from selenium.webdriver.common.keys import Keys\n",
    "from selenium.webdriver import ActionChains\n",
    "from selenium.common.exceptions import StaleElementReferenceException,NoSuchElementException,ElementNotInteractableException\n",
    "## lets connect with web driver \n",
    "\n",
    "#driver = webdriver.Chrome(r\"C:/Users/Acer/chromedriver/chromedriver.exe\")\n",
    "## spacifiying the url\n",
    "Url=  \"https://www.theguardian.com/news/datablog/2012/aug/09/best-selling-books-all-time-fifty-shades-grey-compare\"\n",
    "## lets open the web page through our web page \n",
    "#driver.get(Url)"
   ]
  },
  {
   "cell_type": "code",
   "execution_count": null,
   "metadata": {},
   "outputs": [],
   "source": [
    "## Using the BeautifulSoup for extect the Table\n",
    "\n",
    "page = requests.get(Url)\n",
    "soup = BeautifulSoup(page.content, 'html.parser')\n",
    "novels_tables = soup.find_all(\"table\")\n",
    "\n",
    "## scrap the tabuler data and find following details A) Name B) Description\n",
    "novels=novels_tables[0]\n",
    "novels_table_data = [[cell.text for cell in row.find_all([\"th\",\"td\"])]\n",
    "                               for row in novels.find_all(\"tr\")]\n",
    "\n",
    "## creating the dataframe \n",
    "novels_table_data_df = pd.DataFrame(novels_table_data,columns=[\"Rank\",\"Title\",\"Author\", \"Volume Sales\",\"Publisher\",\"Genre\"])\n",
    "novels_table_data_df.drop([0, 1],inplace=True)\n",
    "novels_table_data_df.head()"
   ]
  },
  {
   "cell_type": "markdown",
   "metadata": {},
   "source": [
    "# Question:-9\n",
    "\n",
    "### Scrape the details most watched tv series of all time from imdb.com. Url = https://www.imdb.com/list/ls095964455/\n",
    "### You have to find the following details:\n",
    "* A) Name\n",
    "* B) Year span\n",
    "* C) Genre\n",
    "* D) Run time\n",
    "* E) Ratings\n",
    "* F) Votes"
   ]
  },
  {
   "cell_type": "code",
   "execution_count": null,
   "metadata": {},
   "outputs": [],
   "source": [
    "# Import all the basic Libraries import requests\n",
    "\n",
    "import time\n",
    "import selenium\n",
    "import requests\n",
    "import pandas as pd\n",
    "from selenium import webdriver\n",
    "from bs4 import BeautifulSoup\n",
    "from selenium.webdriver.common.by import By\n",
    "from selenium.webdriver.common.keys import Keys\n",
    "from selenium.webdriver import ActionChains\n",
    "from selenium.common.exceptions import StaleElementReferenceException,NoSuchElementException,ElementNotInteractableException\n",
    "## lets connect with web driver \n",
    "\n",
    "driver = webdriver.Chrome(r\"C:/Users/Acer/chromedriver/chromedriver.exe\")\n",
    "## spacifiying the url\n",
    "Url=  \"https://www.imdb.com/list/ls095964455/\"\n",
    "## lets open the web page through our web page \n",
    "driver.get(Url)\n"
   ]
  },
  {
   "cell_type": "code",
   "execution_count": null,
   "metadata": {},
   "outputs": [],
   "source": [
    "### Create the Empty folder\n",
    "Show_Name = []\n",
    "Year_span = []\n",
    "Genre = []\n",
    "Run_time = []\n",
    "Ratings = []\n",
    "Votes = []\n"
   ]
  },
  {
   "cell_type": "code",
   "execution_count": null,
   "metadata": {},
   "outputs": [],
   "source": [
    "### Show_Name\n",
    "\n",
    "Show_Name_tag=driver.find_elements_by_xpath('//h3[@class=\"lister-item-header\"]/a') # for Show_Name\n",
    "for i in Show_Name_tag:\n",
    "    try:\n",
    "        Show_Name.append(i.text)\n",
    "    except NoSuchElementException   as e:\n",
    "        Show_Name.append(\"--\")\n",
    "            \n",
    "Show_Name[0:5]"
   ]
  },
  {
   "cell_type": "code",
   "execution_count": null,
   "metadata": {},
   "outputs": [],
   "source": [
    "### Year_span\n",
    "\n",
    "Year_span_tag=driver.find_elements_by_xpath('//span[@class=\"lister-item-year text-muted unbold\"]') # for Year_span\n",
    "for i in Year_span_tag:\n",
    "    try:\n",
    "        Year_span.append(i.text)\n",
    "    except NoSuchElementException   as e:\n",
    "        Year_span.append(\"--\")\n",
    "Year_span[0:5]"
   ]
  },
  {
   "cell_type": "code",
   "execution_count": null,
   "metadata": {},
   "outputs": [],
   "source": [
    "#### Genre\n",
    "\n",
    "Genre_tag = driver.find_elements_by_xpath('//span[@class=\"genre\"]')\n",
    "for i in Genre_tag:\n",
    "    try:\n",
    "        Genre.append(i.text)\n",
    "    except NoSuchElementException   as e:\n",
    "        Genre.append(\"--\")\n",
    "Genre[0:5]"
   ]
  },
  {
   "cell_type": "code",
   "execution_count": null,
   "metadata": {},
   "outputs": [],
   "source": [
    "#### Run_time\n",
    "\n",
    "Run_time_tag = driver.find_elements_by_xpath('//span[@class=\"runtime\"]')\n",
    "for i in Run_time_tag:\n",
    "    try:\n",
    "        Run_time.append(i.text)\n",
    "    except NoSuchElementException   as e:\n",
    "        Run_time.append(\"--\")\n",
    "Run_time[0:5]"
   ]
  },
  {
   "cell_type": "code",
   "execution_count": null,
   "metadata": {},
   "outputs": [],
   "source": [
    "#### Ratings\n",
    "Ratings_tag = driver.find_elements_by_xpath('//div[@class=\"ipl-rating-star small\"]/span[2]')\n",
    "for i in Ratings_tag:\n",
    "    try:\n",
    "        Ratings.append(i.text)\n",
    "    except NoSuchElementException   as e:\n",
    "        Ratings.append(\"--\")\n",
    "Ratings[0:5]"
   ]
  },
  {
   "cell_type": "code",
   "execution_count": null,
   "metadata": {},
   "outputs": [],
   "source": [
    "#### Votes\n",
    "Votes = []\n",
    "\n",
    "Votes_tag = driver.find_elements_by_xpath('//p[@class=\"text-muted text-small\"]/span[2]')\n",
    "for i in Votes_tag:\n",
    "    try:\n",
    "        Votes.append(i.text)\n",
    "    except NoSuchElementException   as e:\n",
    "        Votes.append(\"--\")\n",
    "print(Votes[0:5])\n",
    "\n",
    "Final_votes = []### fiter only \n",
    "for i in range(0, len(Votes)): \n",
    "    if i % 2: \n",
    "        Final_votes.append(Votes[i])\n",
    "print(Final_votes[0:5])\n",
    "    \n",
    "    "
   ]
  },
  {
   "cell_type": "code",
   "execution_count": null,
   "metadata": {},
   "outputs": [],
   "source": [
    "### creating the dataframe :\n",
    "\n",
    "IMDB_TV_df = pd.DataFrame({})\n",
    "\n",
    "IMDB_TV_df[\"Show_Name\"]= Show_Name\n",
    "IMDB_TV_df[\"Year span\"] = Year_span\n",
    "IMDB_TV_df[\"Genre\"]= Genre\n",
    "IMDB_TV_df[\"Run time\"] = Run_time\n",
    "IMDB_TV_df[\"Ratings\"] = Ratings\n",
    "IMDB_TV_df[\"Votes\"] = Final_votes\n",
    "\n",
    "IMDB_TV_df.head()"
   ]
  },
  {
   "cell_type": "markdown",
   "metadata": {},
   "source": [
    "# Question-10\n",
    "### Details of Datasets from UCI machine learning repositories. Url = https://archive.ics.uci.edu/\n",
    "### You have to find the following details:\n",
    "* A) Dataset name\n",
    "* B) Data type\n",
    "* C) Task\n",
    "* D) Attribute type\n",
    "* E) No of instances\n",
    "* F) No of attribute\n",
    "* G) Year\n",
    "## Note: - from the home page you have to go to the ShowAllDataset page through code."
   ]
  },
  {
   "cell_type": "code",
   "execution_count": 1,
   "metadata": {},
   "outputs": [],
   "source": [
    "# Import all the basic Libraries import requests\n",
    "\n",
    "import time\n",
    "import selenium\n",
    "import requests\n",
    "import pandas as pd\n",
    "from selenium import webdriver\n",
    "from bs4 import BeautifulSoup\n",
    "from selenium.webdriver.common.by import By\n",
    "from selenium.webdriver.common.keys import Keys\n",
    "from selenium.webdriver import ActionChains\n",
    "from selenium.common.exceptions import StaleElementReferenceException,NoSuchElementException,ElementNotInteractableException\n",
    "## lets connect with web driver \n",
    "\n",
    "driver = webdriver.Chrome(r\"C:/Users/Acer/chromedriver/chromedriver.exe\")\n",
    "## spacifiying the url\n",
    "Url=  \"https://archive.ics.uci.edu/ml/index.php\"\n",
    "## lets open the web page through our web page \n",
    "driver.get(Url)\n",
    "## click on the view all the datasets\n",
    "time.sleep(3)\n",
    "driver.find_element_by_xpath('/html/body/table[1]/tbody/tr/td[2]/span[2]/a').click()"
   ]
  },
  {
   "cell_type": "code",
   "execution_count": 5,
   "metadata": {},
   "outputs": [
    {
     "name": "stderr",
     "output_type": "stream",
     "text": [
      "Some characters could not be decoded, and were replaced with REPLACEMENT CHARACTER.\n"
     ]
    }
   ],
   "source": [
    "Link = driver.current_url\n",
    "page = requests.get(Link)\n",
    "soup = BeautifulSoup(page.content, 'html.parser')\n",
    "UCI_tables = soup.find_all(\"table\")\n",
    "\n",
    "## scrap the tabuler data and find following details A) Name B) Description\n",
    "UCI=UCI_tables[5]\n",
    "UCI_table_data = [[cell.text for cell in row.find_all([\"th\",\"td\"])]\n",
    "                               for row in UCI.find_all(\"tr\")]\n",
    "\n",
    "## creating the dataframe \n",
    "#UCI_table_data_df = pd.DataFrame(UCI_table_data)\n",
    "#UCI_table_data_df"
   ]
  },
  {
   "cell_type": "code",
   "execution_count": 10,
   "metadata": {},
   "outputs": [
    {
     "ename": "TypeError",
     "evalue": "'module' object is not callable",
     "output_type": "error",
     "traceback": [
      "\u001b[1;31m---------------------------------------------------------------------------\u001b[0m",
      "\u001b[1;31mTypeError\u001b[0m                                 Traceback (most recent call last)",
      "\u001b[1;32m<ipython-input-10-d704a7712d5c>\u001b[0m in \u001b[0;36m<module>\u001b[1;34m\u001b[0m\n\u001b[0;32m      2\u001b[0m \u001b[1;32mimport\u001b[0m \u001b[0mtabulate\u001b[0m\u001b[1;33m\u001b[0m\u001b[1;33m\u001b[0m\u001b[0m\n\u001b[0;32m      3\u001b[0m \u001b[0mdf\u001b[0m \u001b[1;33m=\u001b[0m \u001b[0mpd\u001b[0m\u001b[1;33m.\u001b[0m\u001b[0mread_html\u001b[0m\u001b[1;33m(\u001b[0m\u001b[0mstr\u001b[0m\u001b[1;33m(\u001b[0m\u001b[0mUCI\u001b[0m\u001b[1;33m)\u001b[0m\u001b[1;33m)\u001b[0m\u001b[1;33m\u001b[0m\u001b[1;33m\u001b[0m\u001b[0m\n\u001b[1;32m----> 4\u001b[1;33m \u001b[0mprint\u001b[0m\u001b[1;33m(\u001b[0m\u001b[0mtabulate\u001b[0m\u001b[1;33m(\u001b[0m\u001b[0mdf\u001b[0m\u001b[1;33m)\u001b[0m\u001b[1;33m)\u001b[0m\u001b[1;33m\u001b[0m\u001b[1;33m\u001b[0m\u001b[0m\n\u001b[0m",
      "\u001b[1;31mTypeError\u001b[0m: 'module' object is not callable"
     ]
    }
   ],
   "source": [
    "##!pip install tabulate\n",
    "import tabulate\n",
    "df = pd.read_html(str(UCI)) \n",
    "print(tabulate(df))"
   ]
  },
  {
   "cell_type": "code",
   "execution_count": null,
   "metadata": {},
   "outputs": [],
   "source": []
  }
 ],
 "metadata": {
  "hide_input": false,
  "kernelspec": {
   "display_name": "Python 3",
   "language": "python",
   "name": "python3"
  },
  "language_info": {
   "codemirror_mode": {
    "name": "ipython",
    "version": 3
   },
   "file_extension": ".py",
   "mimetype": "text/x-python",
   "name": "python",
   "nbconvert_exporter": "python",
   "pygments_lexer": "ipython3",
   "version": "3.8.5"
  },
  "latex_envs": {
   "LaTeX_envs_menu_present": true,
   "autoclose": true,
   "autocomplete": true,
   "bibliofile": "biblio.bib",
   "cite_by": "apalike",
   "current_citInitial": 1,
   "eqLabelWithNumbers": true,
   "eqNumInitial": 1,
   "hotkeys": {
    "equation": "Ctrl-E",
    "itemize": "Ctrl-I"
   },
   "labels_anchors": false,
   "latex_user_defs": false,
   "report_style_numbering": false,
   "user_envs_cfg": false
  },
  "nbTranslate": {
   "displayLangs": [
    "*"
   ],
   "hotkey": "alt-t",
   "langInMainMenu": true,
   "sourceLang": "en",
   "targetLang": "fr",
   "useGoogleTranslate": true
  },
  "toc": {
   "base_numbering": 1,
   "nav_menu": {},
   "number_sections": true,
   "sideBar": true,
   "skip_h1_title": false,
   "title_cell": "Table of Contents",
   "title_sidebar": "Contents",
   "toc_cell": false,
   "toc_position": {},
   "toc_section_display": true,
   "toc_window_display": false
  },
  "varInspector": {
   "cols": {
    "lenName": 16,
    "lenType": 16,
    "lenVar": 40
   },
   "kernels_config": {
    "python": {
     "delete_cmd_postfix": "",
     "delete_cmd_prefix": "del ",
     "library": "var_list.py",
     "varRefreshCmd": "print(var_dic_list())"
    },
    "r": {
     "delete_cmd_postfix": ") ",
     "delete_cmd_prefix": "rm(",
     "library": "var_list.r",
     "varRefreshCmd": "cat(var_dic_list()) "
    }
   },
   "position": {
    "height": "357px",
    "left": "996px",
    "right": "20px",
    "top": "119px",
    "width": "350px"
   },
   "types_to_exclude": [
    "module",
    "function",
    "builtin_function_or_method",
    "instance",
    "_Feature"
   ],
   "window_display": false
  }
 },
 "nbformat": 4,
 "nbformat_minor": 4
}
