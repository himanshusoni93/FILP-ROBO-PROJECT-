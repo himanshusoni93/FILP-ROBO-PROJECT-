{
 "cells": [
  {
   "cell_type": "markdown",
   "metadata": {},
   "source": [
    "Use case\n",
    "=========\n",
    "You were recently hired in start up company and you were asked to build a system to identify spam emails.\n",
    "\n",
    "Perform all necessary actions not only limited to,\n",
    "\n",
    "1. Data Preparation\n",
    "2. Building word dictionary\n",
    "3. Feature extraction\n",
    "4. Training classifiers\n",
    "5. Testing \n",
    "6. Performance evaluation using multiple metrics (Confusion matrix, f1 score, roc, auc)"
   ]
  },
  {
   "cell_type": "code",
   "execution_count": 1,
   "metadata": {},
   "outputs": [],
   "source": [
    "## import the basic library\n",
    "import pandas as pd \n",
    "import numpy as np\n",
    "import seaborn as sns\n",
    "import os\n",
    "import string\n",
    "\n"
   ]
  },
  {
   "cell_type": "code",
   "execution_count": 2,
   "metadata": {},
   "outputs": [
    {
     "data": {
      "text/html": [
       "<div>\n",
       "<style scoped>\n",
       "    .dataframe tbody tr th:only-of-type {\n",
       "        vertical-align: middle;\n",
       "    }\n",
       "\n",
       "    .dataframe tbody tr th {\n",
       "        vertical-align: top;\n",
       "    }\n",
       "\n",
       "    .dataframe thead th {\n",
       "        text-align: right;\n",
       "    }\n",
       "</style>\n",
       "<table border=\"1\" class=\"dataframe\">\n",
       "  <thead>\n",
       "    <tr style=\"text-align: right;\">\n",
       "      <th></th>\n",
       "      <th>subject</th>\n",
       "      <th>message</th>\n",
       "      <th>label</th>\n",
       "    </tr>\n",
       "  </thead>\n",
       "  <tbody>\n",
       "    <tr>\n",
       "      <th>0</th>\n",
       "      <td>job posting - apple-iss research center</td>\n",
       "      <td>content - length : 3386 apple-iss research cen...</td>\n",
       "      <td>0</td>\n",
       "    </tr>\n",
       "    <tr>\n",
       "      <th>1</th>\n",
       "      <td>NaN</td>\n",
       "      <td>lang classification grimes , joseph e . and ba...</td>\n",
       "      <td>0</td>\n",
       "    </tr>\n",
       "    <tr>\n",
       "      <th>2</th>\n",
       "      <td>query : letter frequencies for text identifica...</td>\n",
       "      <td>i am posting this inquiry for sergei atamas ( ...</td>\n",
       "      <td>0</td>\n",
       "    </tr>\n",
       "    <tr>\n",
       "      <th>3</th>\n",
       "      <td>risk</td>\n",
       "      <td>a colleague and i are researching the differin...</td>\n",
       "      <td>0</td>\n",
       "    </tr>\n",
       "    <tr>\n",
       "      <th>4</th>\n",
       "      <td>request book information</td>\n",
       "      <td>earlier this morning i was on the phone with a...</td>\n",
       "      <td>0</td>\n",
       "    </tr>\n",
       "  </tbody>\n",
       "</table>\n",
       "</div>"
      ],
      "text/plain": [
       "                                             subject  \\\n",
       "0            job posting - apple-iss research center   \n",
       "1                                                NaN   \n",
       "2  query : letter frequencies for text identifica...   \n",
       "3                                               risk   \n",
       "4                           request book information   \n",
       "\n",
       "                                             message  label  \n",
       "0  content - length : 3386 apple-iss research cen...      0  \n",
       "1  lang classification grimes , joseph e . and ba...      0  \n",
       "2  i am posting this inquiry for sergei atamas ( ...      0  \n",
       "3  a colleague and i are researching the differin...      0  \n",
       "4  earlier this morning i was on the phone with a...      0  "
      ]
     },
     "execution_count": 2,
     "metadata": {},
     "output_type": "execute_result"
    }
   ],
   "source": [
    "## lode the dataset \n",
    "\n",
    "df_mail =  pd.read_csv(r\"F:\\desktop 123\\INTERSHIP-DS\\messages.csv\")\n",
    "df_mail.head()\n",
    "\n"
   ]
  },
  {
   "cell_type": "code",
   "execution_count": 3,
   "metadata": {},
   "outputs": [
    {
     "name": "stdout",
     "output_type": "stream",
     "text": [
      "<class 'pandas.core.frame.DataFrame'>\n",
      "RangeIndex: 2893 entries, 0 to 2892\n",
      "Data columns (total 3 columns):\n",
      " #   Column   Non-Null Count  Dtype \n",
      "---  ------   --------------  ----- \n",
      " 0   subject  2831 non-null   object\n",
      " 1   message  2893 non-null   object\n",
      " 2   label    2893 non-null   int64 \n",
      "dtypes: int64(1), object(2)\n",
      "memory usage: 67.9+ KB\n"
     ]
    }
   ],
   "source": [
    "## let's check the basic detailes \n",
    "\n",
    "df_mail.info()"
   ]
  },
  {
   "cell_type": "code",
   "execution_count": 4,
   "metadata": {},
   "outputs": [
    {
     "data": {
      "text/html": [
       "<div>\n",
       "<style scoped>\n",
       "    .dataframe tbody tr th:only-of-type {\n",
       "        vertical-align: middle;\n",
       "    }\n",
       "\n",
       "    .dataframe tbody tr th {\n",
       "        vertical-align: top;\n",
       "    }\n",
       "\n",
       "    .dataframe thead th {\n",
       "        text-align: right;\n",
       "    }\n",
       "</style>\n",
       "<table border=\"1\" class=\"dataframe\">\n",
       "  <thead>\n",
       "    <tr style=\"text-align: right;\">\n",
       "      <th></th>\n",
       "      <th>subject</th>\n",
       "      <th>message</th>\n",
       "    </tr>\n",
       "  </thead>\n",
       "  <tbody>\n",
       "    <tr>\n",
       "      <th>count</th>\n",
       "      <td>2831</td>\n",
       "      <td>2893</td>\n",
       "    </tr>\n",
       "    <tr>\n",
       "      <th>unique</th>\n",
       "      <td>2613</td>\n",
       "      <td>2859</td>\n",
       "    </tr>\n",
       "    <tr>\n",
       "      <th>top</th>\n",
       "      <td>sociolinguistics</td>\n",
       "      <td>this is not spam ; you are receiving this mess...</td>\n",
       "    </tr>\n",
       "    <tr>\n",
       "      <th>freq</th>\n",
       "      <td>8</td>\n",
       "      <td>5</td>\n",
       "    </tr>\n",
       "  </tbody>\n",
       "</table>\n",
       "</div>"
      ],
      "text/plain": [
       "                 subject                                            message\n",
       "count               2831                                               2893\n",
       "unique              2613                                               2859\n",
       "top     sociolinguistics  this is not spam ; you are receiving this mess...\n",
       "freq                   8                                                  5"
      ]
     },
     "execution_count": 4,
     "metadata": {},
     "output_type": "execute_result"
    }
   ],
   "source": [
    "df_mail.describe(include=['O'])"
   ]
  },
  {
   "cell_type": "code",
   "execution_count": 5,
   "metadata": {},
   "outputs": [
    {
     "data": {
      "text/plain": [
       "subject    62\n",
       "message     0\n",
       "label       0\n",
       "dtype: int64"
      ]
     },
     "execution_count": 5,
     "metadata": {},
     "output_type": "execute_result"
    }
   ],
   "source": [
    "# check the missing values in the dataset \n",
    "df_mail.isnull().sum()"
   ]
  },
  {
   "cell_type": "code",
   "execution_count": 6,
   "metadata": {
    "scrolled": false
   },
   "outputs": [
    {
     "data": {
      "text/plain": [
       "subject    2.143104\n",
       "message    0.000000\n",
       "label      0.000000\n",
       "dtype: float64"
      ]
     },
     "execution_count": 6,
     "metadata": {},
     "output_type": "execute_result"
    }
   ],
   "source": [
    "# lets find out the percentage of misssing vale in each column\n",
    "Percent_Missing_Value = df_mail.isnull().sum()*100/len(df_mail)\n",
    "Percent_Missing_Value"
   ]
  },
  {
   "cell_type": "code",
   "execution_count": 7,
   "metadata": {},
   "outputs": [
    {
     "data": {
      "text/html": [
       "<div>\n",
       "<style scoped>\n",
       "    .dataframe tbody tr th:only-of-type {\n",
       "        vertical-align: middle;\n",
       "    }\n",
       "\n",
       "    .dataframe tbody tr th {\n",
       "        vertical-align: top;\n",
       "    }\n",
       "\n",
       "    .dataframe thead th {\n",
       "        text-align: right;\n",
       "    }\n",
       "</style>\n",
       "<table border=\"1\" class=\"dataframe\">\n",
       "  <thead>\n",
       "    <tr style=\"text-align: right;\">\n",
       "      <th></th>\n",
       "      <th>subject</th>\n",
       "      <th>message</th>\n",
       "      <th>label</th>\n",
       "    </tr>\n",
       "  </thead>\n",
       "  <tbody>\n",
       "    <tr>\n",
       "      <th>1</th>\n",
       "      <td>NaN</td>\n",
       "      <td>lang classification grimes , joseph e . and ba...</td>\n",
       "      <td>0</td>\n",
       "    </tr>\n",
       "    <tr>\n",
       "      <th>13</th>\n",
       "      <td>NaN</td>\n",
       "      <td>syntax the antisymmetry of syntax richard s . ...</td>\n",
       "      <td>0</td>\n",
       "    </tr>\n",
       "    <tr>\n",
       "      <th>69</th>\n",
       "      <td>NaN</td>\n",
       "      <td>computational ling bengt sigurd ( ed ) compute...</td>\n",
       "      <td>0</td>\n",
       "    </tr>\n",
       "    <tr>\n",
       "      <th>107</th>\n",
       "      <td>NaN</td>\n",
       "      <td>phonology &amp; phonetics burquest , donald a . an...</td>\n",
       "      <td>0</td>\n",
       "    </tr>\n",
       "    <tr>\n",
       "      <th>258</th>\n",
       "      <td>NaN</td>\n",
       "      <td>phonology &amp; phonetics leiden in last : hil pho...</td>\n",
       "      <td>0</td>\n",
       "    </tr>\n",
       "    <tr>\n",
       "      <th>...</th>\n",
       "      <td>...</td>\n",
       "      <td>...</td>\n",
       "      <td>...</td>\n",
       "    </tr>\n",
       "    <tr>\n",
       "      <th>2296</th>\n",
       "      <td>NaN</td>\n",
       "      <td>the latest issue ( 1994 n01 ) of etudes de let...</td>\n",
       "      <td>0</td>\n",
       "    </tr>\n",
       "    <tr>\n",
       "      <th>2309</th>\n",
       "      <td>NaN</td>\n",
       "      <td>b a r g a i n a i r f a r e s your 1 - stop tr...</td>\n",
       "      <td>1</td>\n",
       "    </tr>\n",
       "    <tr>\n",
       "      <th>2555</th>\n",
       "      <td>NaN</td>\n",
       "      <td>data to : = 20 date : fri , 06 feb 1998 22 : 3...</td>\n",
       "      <td>1</td>\n",
       "    </tr>\n",
       "    <tr>\n",
       "      <th>2562</th>\n",
       "      <td>NaN</td>\n",
       "      <td>epac . pt , e . carnoali @ genie . com , e . c...</td>\n",
       "      <td>1</td>\n",
       "    </tr>\n",
       "    <tr>\n",
       "      <th>2811</th>\n",
       "      <td>NaN</td>\n",
       "      <td>simply send a message to : listserv @ tamvm1 ....</td>\n",
       "      <td>0</td>\n",
       "    </tr>\n",
       "  </tbody>\n",
       "</table>\n",
       "<p>62 rows × 3 columns</p>\n",
       "</div>"
      ],
      "text/plain": [
       "     subject                                            message  label\n",
       "1        NaN  lang classification grimes , joseph e . and ba...      0\n",
       "13       NaN  syntax the antisymmetry of syntax richard s . ...      0\n",
       "69       NaN  computational ling bengt sigurd ( ed ) compute...      0\n",
       "107      NaN  phonology & phonetics burquest , donald a . an...      0\n",
       "258      NaN  phonology & phonetics leiden in last : hil pho...      0\n",
       "...      ...                                                ...    ...\n",
       "2296     NaN  the latest issue ( 1994 n01 ) of etudes de let...      0\n",
       "2309     NaN  b a r g a i n a i r f a r e s your 1 - stop tr...      1\n",
       "2555     NaN  data to : = 20 date : fri , 06 feb 1998 22 : 3...      1\n",
       "2562     NaN  epac . pt , e . carnoali @ genie . com , e . c...      1\n",
       "2811     NaN  simply send a message to : listserv @ tamvm1 ....      0\n",
       "\n",
       "[62 rows x 3 columns]"
      ]
     },
     "execution_count": 7,
     "metadata": {},
     "output_type": "execute_result"
    }
   ],
   "source": [
    "## Total no of samples where any column has NaN\n",
    "df_mail[(df_mail[\"subject\"].isnull()==True)|\n",
    "           (df_mail[\"message\"].isnull()==True)|\n",
    "           (df_mail[\"label\"].isnull()==True)]"
   ]
  },
  {
   "cell_type": "code",
   "execution_count": 8,
   "metadata": {},
   "outputs": [
    {
     "name": "stdout",
     "output_type": "stream",
     "text": [
      "(2893, 3)\n",
      "(2831, 3)\n"
     ]
    }
   ],
   "source": [
    " ## let's drop the missing value in the data set \n",
    "print(df_mail.shape)\n",
    "\n",
    "## Lets delete all the Rows where we have NaN values\n",
    "df_mail_new = df_mail.dropna()\n",
    "\n",
    "print(df_mail_new.shape)"
   ]
  },
  {
   "cell_type": "code",
   "execution_count": 9,
   "metadata": {},
   "outputs": [
    {
     "data": {
      "text/plain": [
       "subject    0\n",
       "message    0\n",
       "label      0\n",
       "dtype: int64"
      ]
     },
     "execution_count": 9,
     "metadata": {},
     "output_type": "execute_result"
    }
   ],
   "source": [
    "# let's check the missing value now \n",
    "\n",
    "\n",
    "df_mail_new.isnull().sum()"
   ]
  },
  {
   "cell_type": "code",
   "execution_count": 10,
   "metadata": {},
   "outputs": [
    {
     "data": {
      "text/plain": [
       "17"
      ]
     },
     "execution_count": 10,
     "metadata": {},
     "output_type": "execute_result"
    }
   ],
   "source": [
    "#let's check the duplicte in dataset \n",
    "df_mail_new.duplicated().sum()"
   ]
  },
  {
   "cell_type": "code",
   "execution_count": 11,
   "metadata": {},
   "outputs": [
    {
     "name": "stderr",
     "output_type": "stream",
     "text": [
      "<ipython-input-11-d6febe14d26b>:2: SettingWithCopyWarning: \n",
      "A value is trying to be set on a copy of a slice from a DataFrame\n",
      "\n",
      "See the caveats in the documentation: https://pandas.pydata.org/pandas-docs/stable/user_guide/indexing.html#returning-a-view-versus-a-copy\n",
      "  df_mail_new.drop_duplicates(inplace = True)\n"
     ]
    }
   ],
   "source": [
    "# as we see there 17 duplicate present in the dataset \n",
    "df_mail_new.drop_duplicates(inplace = True)"
   ]
  },
  {
   "cell_type": "code",
   "execution_count": 12,
   "metadata": {},
   "outputs": [
    {
     "data": {
      "text/html": [
       "<div>\n",
       "<style scoped>\n",
       "    .dataframe tbody tr th:only-of-type {\n",
       "        vertical-align: middle;\n",
       "    }\n",
       "\n",
       "    .dataframe tbody tr th {\n",
       "        vertical-align: top;\n",
       "    }\n",
       "\n",
       "    .dataframe thead th {\n",
       "        text-align: right;\n",
       "    }\n",
       "</style>\n",
       "<table border=\"1\" class=\"dataframe\">\n",
       "  <thead>\n",
       "    <tr style=\"text-align: right;\">\n",
       "      <th></th>\n",
       "      <th>subject</th>\n",
       "      <th>message</th>\n",
       "    </tr>\n",
       "  </thead>\n",
       "  <tbody>\n",
       "    <tr>\n",
       "      <th>count</th>\n",
       "      <td>2814</td>\n",
       "      <td>2814</td>\n",
       "    </tr>\n",
       "    <tr>\n",
       "      <th>unique</th>\n",
       "      <td>2613</td>\n",
       "      <td>2797</td>\n",
       "    </tr>\n",
       "    <tr>\n",
       "      <th>top</th>\n",
       "      <td>sociolinguistics</td>\n",
       "      <td>university degree programs increase your perso...</td>\n",
       "    </tr>\n",
       "    <tr>\n",
       "      <th>freq</th>\n",
       "      <td>8</td>\n",
       "      <td>3</td>\n",
       "    </tr>\n",
       "  </tbody>\n",
       "</table>\n",
       "</div>"
      ],
      "text/plain": [
       "                 subject                                            message\n",
       "count               2814                                               2814\n",
       "unique              2613                                               2797\n",
       "top     sociolinguistics  university degree programs increase your perso...\n",
       "freq                   8                                                  3"
      ]
     },
     "execution_count": 12,
     "metadata": {},
     "output_type": "execute_result"
    }
   ],
   "source": [
    "df_mail_new.describe(include=['O'])"
   ]
  },
  {
   "cell_type": "code",
   "execution_count": 13,
   "metadata": {},
   "outputs": [
    {
     "data": {
      "text/html": [
       "<div>\n",
       "<style scoped>\n",
       "    .dataframe tbody tr th:only-of-type {\n",
       "        vertical-align: middle;\n",
       "    }\n",
       "\n",
       "    .dataframe tbody tr th {\n",
       "        vertical-align: top;\n",
       "    }\n",
       "\n",
       "    .dataframe thead th {\n",
       "        text-align: right;\n",
       "    }\n",
       "</style>\n",
       "<table border=\"1\" class=\"dataframe\">\n",
       "  <thead>\n",
       "    <tr style=\"text-align: right;\">\n",
       "      <th></th>\n",
       "      <th>label</th>\n",
       "      <th>0</th>\n",
       "      <th>1</th>\n",
       "    </tr>\n",
       "  </thead>\n",
       "  <tbody>\n",
       "    <tr>\n",
       "      <th rowspan=\"4\" valign=\"top\">subject</th>\n",
       "      <th>count</th>\n",
       "      <td>2359</td>\n",
       "      <td>455</td>\n",
       "    </tr>\n",
       "    <tr>\n",
       "      <th>unique</th>\n",
       "      <td>2193</td>\n",
       "      <td>420</td>\n",
       "    </tr>\n",
       "    <tr>\n",
       "      <th>top</th>\n",
       "      <td>sociolinguistics</td>\n",
       "      <td>new on capitalfm . com</td>\n",
       "    </tr>\n",
       "    <tr>\n",
       "      <th>freq</th>\n",
       "      <td>8</td>\n",
       "      <td>5</td>\n",
       "    </tr>\n",
       "    <tr>\n",
       "      <th rowspan=\"4\" valign=\"top\">message</th>\n",
       "      <th>count</th>\n",
       "      <td>2359</td>\n",
       "      <td>455</td>\n",
       "    </tr>\n",
       "    <tr>\n",
       "      <th>unique</th>\n",
       "      <td>2352</td>\n",
       "      <td>445</td>\n",
       "    </tr>\n",
       "    <tr>\n",
       "      <th>top</th>\n",
       "      <td>second workshop on interlinguas : call for pap...</td>\n",
       "      <td>university degree programs increase your perso...</td>\n",
       "    </tr>\n",
       "    <tr>\n",
       "      <th>freq</th>\n",
       "      <td>2</td>\n",
       "      <td>3</td>\n",
       "    </tr>\n",
       "  </tbody>\n",
       "</table>\n",
       "</div>"
      ],
      "text/plain": [
       "label                                                           0  \\\n",
       "subject count                                                2359   \n",
       "        unique                                               2193   \n",
       "        top                                      sociolinguistics   \n",
       "        freq                                                    8   \n",
       "message count                                                2359   \n",
       "        unique                                               2352   \n",
       "        top     second workshop on interlinguas : call for pap...   \n",
       "        freq                                                    2   \n",
       "\n",
       "label                                                           1  \n",
       "subject count                                                 455  \n",
       "        unique                                                420  \n",
       "        top                                new on capitalfm . com  \n",
       "        freq                                                    5  \n",
       "message count                                                 455  \n",
       "        unique                                                445  \n",
       "        top     university degree programs increase your perso...  \n",
       "        freq                                                    3  "
      ]
     },
     "execution_count": 13,
     "metadata": {},
     "output_type": "execute_result"
    }
   ],
   "source": [
    "df_mail_new.groupby(\"label\").describe().T"
   ]
  },
  {
   "cell_type": "code",
   "execution_count": 14,
   "metadata": {
    "scrolled": true
   },
   "outputs": [
    {
     "data": {
      "text/plain": [
       "0    2359\n",
       "1     455\n",
       "Name: label, dtype: int64"
      ]
     },
     "execution_count": 14,
     "metadata": {},
     "output_type": "execute_result"
    }
   ],
   "source": [
    "df_mail_new[\"label\"].value_counts()"
   ]
  },
  {
   "cell_type": "code",
   "execution_count": 15,
   "metadata": {},
   "outputs": [
    {
     "data": {
      "text/plain": [
       "<AxesSubplot:xlabel='label', ylabel='count'>"
      ]
     },
     "execution_count": 15,
     "metadata": {},
     "output_type": "execute_result"
    },
    {
     "data": {
      "image/png": "[encoded data removed]",
      "text/plain": [
       "<Figure size 432x288 with 1 Axes>"
      ]
     },
     "metadata": {
      "needs_background": "light"
     },
     "output_type": "display_data"
    }
   ],
   "source": [
    "sns.countplot(x=\"label\",data=df_mail_new)"
   ]
  },
  {
   "cell_type": "code",
   "execution_count": 16,
   "metadata": {},
   "outputs": [
    {
     "name": "stderr",
     "output_type": "stream",
     "text": [
      "<ipython-input-16-7ef22b312110>:2: SettingWithCopyWarning: \n",
      "A value is trying to be set on a copy of a slice from a DataFrame.\n",
      "Try using .loc[row_indexer,col_indexer] = value instead\n",
      "\n",
      "See the caveats in the documentation: https://pandas.pydata.org/pandas-docs/stable/user_guide/indexing.html#returning-a-view-versus-a-copy\n",
      "  df_mail_new[\"length of subject\"] =df_mail_new[\"subject\"].apply(len)\n",
      "<ipython-input-16-7ef22b312110>:3: SettingWithCopyWarning: \n",
      "A value is trying to be set on a copy of a slice from a DataFrame.\n",
      "Try using .loc[row_indexer,col_indexer] = value instead\n",
      "\n",
      "See the caveats in the documentation: https://pandas.pydata.org/pandas-docs/stable/user_guide/indexing.html#returning-a-view-versus-a-copy\n",
      "  df_mail_new[\"length of message\"] =df_mail_new[\"message\"].apply(len)\n"
     ]
    },
    {
     "data": {
      "text/html": [
       "<div>\n",
       "<style scoped>\n",
       "    .dataframe tbody tr th:only-of-type {\n",
       "        vertical-align: middle;\n",
       "    }\n",
       "\n",
       "    .dataframe tbody tr th {\n",
       "        vertical-align: top;\n",
       "    }\n",
       "\n",
       "    .dataframe thead th {\n",
       "        text-align: right;\n",
       "    }\n",
       "</style>\n",
       "<table border=\"1\" class=\"dataframe\">\n",
       "  <thead>\n",
       "    <tr style=\"text-align: right;\">\n",
       "      <th></th>\n",
       "      <th>subject</th>\n",
       "      <th>message</th>\n",
       "      <th>label</th>\n",
       "      <th>length of subject</th>\n",
       "      <th>length of message</th>\n",
       "    </tr>\n",
       "  </thead>\n",
       "  <tbody>\n",
       "    <tr>\n",
       "      <th>0</th>\n",
       "      <td>job posting - apple-iss research center</td>\n",
       "      <td>content - length : 3386 apple-iss research cen...</td>\n",
       "      <td>0</td>\n",
       "      <td>39</td>\n",
       "      <td>2856</td>\n",
       "    </tr>\n",
       "    <tr>\n",
       "      <th>2</th>\n",
       "      <td>query : letter frequencies for text identifica...</td>\n",
       "      <td>i am posting this inquiry for sergei atamas ( ...</td>\n",
       "      <td>0</td>\n",
       "      <td>50</td>\n",
       "      <td>1435</td>\n",
       "    </tr>\n",
       "    <tr>\n",
       "      <th>3</th>\n",
       "      <td>risk</td>\n",
       "      <td>a colleague and i are researching the differin...</td>\n",
       "      <td>0</td>\n",
       "      <td>4</td>\n",
       "      <td>324</td>\n",
       "    </tr>\n",
       "    <tr>\n",
       "      <th>4</th>\n",
       "      <td>request book information</td>\n",
       "      <td>earlier this morning i was on the phone with a...</td>\n",
       "      <td>0</td>\n",
       "      <td>24</td>\n",
       "      <td>1046</td>\n",
       "    </tr>\n",
       "    <tr>\n",
       "      <th>5</th>\n",
       "      <td>call for abstracts : optimality in syntactic t...</td>\n",
       "      <td>content - length : 4437 call for papers is the...</td>\n",
       "      <td>0</td>\n",
       "      <td>51</td>\n",
       "      <td>4492</td>\n",
       "    </tr>\n",
       "  </tbody>\n",
       "</table>\n",
       "</div>"
      ],
      "text/plain": [
       "                                             subject  \\\n",
       "0            job posting - apple-iss research center   \n",
       "2  query : letter frequencies for text identifica...   \n",
       "3                                               risk   \n",
       "4                           request book information   \n",
       "5  call for abstracts : optimality in syntactic t...   \n",
       "\n",
       "                                             message  label  \\\n",
       "0  content - length : 3386 apple-iss research cen...      0   \n",
       "2  i am posting this inquiry for sergei atamas ( ...      0   \n",
       "3  a colleague and i are researching the differin...      0   \n",
       "4  earlier this morning i was on the phone with a...      0   \n",
       "5  content - length : 4437 call for papers is the...      0   \n",
       "\n",
       "   length of subject  length of message  \n",
       "0                 39               2856  \n",
       "2                 50               1435  \n",
       "3                  4                324  \n",
       "4                 24               1046  \n",
       "5                 51               4492  "
      ]
     },
     "execution_count": 16,
     "metadata": {},
     "output_type": "execute_result"
    }
   ],
   "source": [
    "## create a new column (length of message )\n",
    "df_mail_new[\"length of subject\"] =df_mail_new[\"subject\"].apply(len)\n",
    "df_mail_new[\"length of message\"] =df_mail_new[\"message\"].apply(len)\n",
    "df_mail_new.head()"
   ]
  },
  {
   "cell_type": "code",
   "execution_count": 17,
   "metadata": {},
   "outputs": [
    {
     "data": {
      "text/html": [
       "<div>\n",
       "<style scoped>\n",
       "    .dataframe tbody tr th:only-of-type {\n",
       "        vertical-align: middle;\n",
       "    }\n",
       "\n",
       "    .dataframe tbody tr th {\n",
       "        vertical-align: top;\n",
       "    }\n",
       "\n",
       "    .dataframe thead th {\n",
       "        text-align: right;\n",
       "    }\n",
       "</style>\n",
       "<table border=\"1\" class=\"dataframe\">\n",
       "  <thead>\n",
       "    <tr style=\"text-align: right;\">\n",
       "      <th></th>\n",
       "      <th>subject</th>\n",
       "      <th>message</th>\n",
       "      <th>label</th>\n",
       "      <th>length of subject</th>\n",
       "      <th>length of message</th>\n",
       "    </tr>\n",
       "  </thead>\n",
       "  <tbody>\n",
       "    <tr>\n",
       "      <th>1185</th>\n",
       "      <td>sampson : educating eve</td>\n",
       "      <td>g . sampson , ( 1997 ) educating eve : the lan...</td>\n",
       "      <td>0</td>\n",
       "      <td>23</td>\n",
       "      <td>28649</td>\n",
       "    </tr>\n",
       "  </tbody>\n",
       "</table>\n",
       "</div>"
      ],
      "text/plain": [
       "                      subject  \\\n",
       "1185  sampson : educating eve   \n",
       "\n",
       "                                                message  label  \\\n",
       "1185  g . sampson , ( 1997 ) educating eve : the lan...      0   \n",
       "\n",
       "      length of subject  length of message  \n",
       "1185                 23              28649  "
      ]
     },
     "execution_count": 17,
     "metadata": {},
     "output_type": "execute_result"
    }
   ],
   "source": [
    "## let's check the maximum message \n",
    "\n",
    "df_mail_new.nlargest(1,\"length of message\")"
   ]
  },
  {
   "cell_type": "code",
   "execution_count": 18,
   "metadata": {},
   "outputs": [
    {
     "data": {
      "text/plain": [
       "28649"
      ]
     },
     "execution_count": 18,
     "metadata": {},
     "output_type": "execute_result"
    }
   ],
   "source": [
    "# lest check the maximum lenght of the message \n",
    "df_mail_new[\"length of message\"].max()"
   ]
  },
  {
   "cell_type": "code",
   "execution_count": 19,
   "metadata": {},
   "outputs": [
    {
     "data": {
      "text/plain": [
       "'g . sampson , ( 1997 ) educating eve : the language instinct debate , cassell , london , 184pp . reviewed by feargal murphy , university college dublin . the rise of generative linguistics in 60s gave a new lease of life to the old nature vs . nurture debate . the behaviourist model of language was judged a failure at explaining the process of language acquisition and a new theory of language acquisition emerged . it was rooted in the philosophy of descartes in the 17th century as well as humboldt and , ultimately , plato . it came to be known as linguistic nativism or rationalist linguistics and is most associated with noam chomsky . the central tenet of this theory is that children are born with some kind of language acquisition device already in place in their brains which allows them to acquire the language of their environment . within linguistic nativism there has been some debate as to whether this device provides merely general rules that allow for the acquisition of language or whether it is a rich innate system that provides a complete basis for language acquisition so that a child can acquire the complexities of a language at a time when its general cognitive development could not possibly cope with such complexity . the rationalist tradition behind linguistic nativism has always been in contrast with empiricism which states that all ideas and knowledge ( including knowledge of language ) come from experience obtained through the senses and that there can be no innate knowledge . a view that goes back to the 17th century and the writings of locke , berkeley and hume and in the modern era has also been associated with the philosophers of the vienna circle and karl popper . _ educating eve _ will certainly not determine the outcome of the nature vs . nurture debate , nor will it , in my opinion , lead to any productive insight into the debate . the book fails to understand the scope and import of the nativist arguments and consequently falls short of presenting a genuine criticism of it . as it stands the book will be applauded by those who are already favourably disposed towards its conclusions and derided by those who are not . _ educating eve _ ( henceforth _ ee _ ) argues against the writings of chomsky , as well as pinker \\'s \\' the language instinct \\' , bickerton \\'s \\' language and species \\' and jackendoff \\'s \\' patterns in the mind \\' . these three books are essentially aimed at the general rather than the specialist reader . the result of targeting these three books is to make the arguments against nativism appear weak and superficial . the desire to rescue public opinion from the wrong path is a recurring theme in the author \\'s work . in his _ language and liberty _ , which also argued for a non-nativist view of language , the main aim was to discourage people from following left wing politics . the author \\'s politics , unfortunately , emerge as a strong force in this book . given the importance of the nativism debate i shall focus primarily on the more important linguistic issues , leaving aside politics except when they cloud the issues surrounding nativism the alternative to nativism that this book argues for is essentially a version of karl popper \\'s empiricism . according to this view the ability to learn may be innate but there are no domain specific innate mechanisms involved in learning . people learn the language of the community they belong to in the same way that they learn anything else , by trial and error . they \\' make original though fallible conjectures and test them against objective reality \\' ( p . 137 - all quotes are from _ ee _ unless otherwise indicated ) . eventually , using this method , each individual comes to learn a language . what they learn are \\' wholly cultural constructs \\' ( p . 137 ) , an e - language rather than an i - language , to use chomsky \\'s terminology . note that the conception of language in _ ee _ is totally different from those of chomsky , jackendoff , bickerton or pinker . for these nativists , language cannot belong to a society rather than to the individual . this issue is not actually addressed in the book . _ ee _ merely states that language is a cultural artifact and not biological , but does not furnish any evidence for this claim . the book also states popper \\'s belief that the mind is not amenable to scientific theorising ( p . 138 ) . i am unable to find any evidence in the book to support this claim . however , if one assumes that the mind is outside the domain of scientific inquiry then it simply becomes impossible to engage in a debate about the merits of the specifics of any nativist theory . the first task this book undertakes is to demolish chomsky \\'s arguments for nativism ( only sourcing material up to 1991 ) and then to demolish the \\'s econd wave \\' nativists - with pinker foremost in the second wave . the book utilises many arguments , some more noteworthy than others , and it would be beyond the scope of this review to examine them all . i will look at a few of the arguments , more or less at random . the arguments against chomsky centre on what sampson perceives as the basis of nativism : 1 : speed of acquisition 2 : age - dependence 3 : poverty of data 4 : convergence among grammars 5 : language universals 6 : species - specificity _ ee _ claims the first argument ( speed of acquisition ) is hollow as there is no way of determining what exactly \\'s peed \\' could be in this area . however , it seems uncontroversial enough that children acquire language faster than adults and that they do so without the problems that adults encounter . there is no attempt in the book to address the notion of whether different languages are acquired at different speeds or whether different children acquiring the same language do so in radically different sequences . this would seem to be a distinct possibility if we do not have an innate language specific faculty but rather rely on some generalised learning mechanism . a look at the evidence regarding language acquisition across languages would have helped make the case conclusive . the book should have dealt more with data available in order to show that only a non-nativist account of language acquisition could capture the facts . instead _ ee _ relies on the notion that the popperian account can cope just as well as a nativist account and is closer to the \\' common sense \\' view of language . but this does not prove that a popperian account is right . chomsky \\'s second argument ( age - dependence ) is dismissed because , the book states , humans can learn language at any age \" if they see the task as worthwhile \" ( p . 36 ) . however , the author does not describe any procedure for assessing the worthwhileness of the task . why a child would find it worthwhile to learn a language when its needs are being met by compliant adults responding to non-linguistic communication is not addressed . if the early vocalisations of children are evidence of the beginnings of language acquisition , then the child is deciding at a very early age that language is \\' worthwhile \\' , at a stage when it seems difficult to believe the child is weighing up any options to see what may or may not be worthwhile . following this logic we could extend the criterion of \" worthwhileness \" to other \\' learning \\' such as \\' learning to walk \\' and eliminate the innate component from that as well . the book states that there are \" plenty of cases on record of adults mastering a second language to native-speaker standard apart from accent \" ( p . 36 ) ; i am not quite sure what it might mean to achieve native-speaker standard apart from accent . what the book suggests - without providing any crucial evidence - - is that \" learning as a general process is for biological reasons far more rapid before puberty than after \" ( p . 37 ) . this is supposed to show that age dependence is not proof of a critical period for language acquisition using some innate language acquisition device - - a critical period being one of the features that is characteristic of innate behaviour . the age dependence , according to the book , falls out from the slowing down of the learning process in general after puberty . this , however , seems to contradict the other argument against age dependence ; that an adult can master a second language to native speaker standard . the author also states that \" susan curtiss herself regarded genie as refuting the strong version of lenneberg \\'s claim , that natural language acquisition cannot occur after puberty \" ( p . 37 ) . susan curtiss might want to respond to that one herself . my understanding of her work on genie is that genie did have language ( that is , rule-governed creative linguistic behaviour ) but was not able to achieve anything close to native speaker competence while under observation ( curtiss , p . 204 ) even though it would indeed have been \\' worthwhile \\' to do so . furthermore her linguistic development did not follow the same course as children acquiring language normally . this suggests that genie \\'s ability to learn language was diminished due to her age but the important point is that her cognitive development in other areas seemed not to be so affected . it would also have been worthwhile for chelsea to have learned language , yet chelsea did not achieve native speaker standard ( see jackendoff \\'s _ patterns in the mind _ ) . the third argument presented by chomsky for nativism , according to the book , is poverty of data during acquisition . the arguments against chomsky presented in the book do not bear close scrutiny . according to the book , motherese provides a \" graded series of language lessons \" ( p . 39 ) and is not at all degenerate , as the poverty of data argument states . this is not particularly new ( the references cited by the author are from the early 70s ) . the fact is , however , that we really do not yet know what role - if any - motherese p"
      ]
     },
     "execution_count": 19,
     "metadata": {},
     "output_type": "execute_result"
    },
    {
     "data": {
      "text/html": [
       "<b>limit_output extension: Maximum message size of 10000 exceeded with 28739 characters</b>"
      ]
     },
     "metadata": {},
     "output_type": "display_data"
    }
   ],
   "source": [
    "## check that message :-----\n",
    "\n",
    "df_mail_new[df_mail_new[\"length of message\"]==df_mail_new[\"length of message\"].max()][\"message\"].iloc[0]"
   ]
  },
  {
   "cell_type": "code",
   "execution_count": 20,
   "metadata": {},
   "outputs": [
    {
     "data": {
      "text/plain": [
       "array([<AxesSubplot:title={'center':'0'}>,\n",
       "       <AxesSubplot:title={'center':'1'}>], dtype=object)"
      ]
     },
     "execution_count": 20,
     "metadata": {},
     "output_type": "execute_result"
    },
    {
     "data": {
      "image/png": "[encoded data removed]",
      "text/plain": [
       "<Figure size 720x360 with 2 Axes>"
      ]
     },
     "metadata": {
      "needs_background": "light"
     },
     "output_type": "display_data"
    }
   ],
   "source": [
    "# check the relation b/w message lenght  and \"label\"\n",
    "df_mail_new.hist(column=\"length of message\",by=\"label\",bins=50,figsize=(10,5))"
   ]
  },
  {
   "cell_type": "markdown",
   "metadata": {},
   "source": [
    "# Text Transformation:\n",
    "\n",
    "Data Cleaning (Removing unimportant data / Stopwords/stemming )"
   ]
  },
  {
   "cell_type": "code",
   "execution_count": 21,
   "metadata": {},
   "outputs": [
    {
     "name": "stderr",
     "output_type": "stream",
     "text": [
      "[nltk_data] Downloading package stopwords to\n",
      "[nltk_data]     C:\\Users\\HP\\AppData\\Roaming\\nltk_data...\n",
      "[nltk_data]   Package stopwords is already up-to-date!\n"
     ]
    }
   ],
   "source": [
    "import string\n",
    "import nltk\n",
    "\n",
    "from nltk.corpus import stopwords\n",
    "nltk.download(\"stopwords\")\n",
    "stop = stopwords.words(\"english\")\n",
    "\n",
    "from nltk.stem.porter import PorterStemmer\n",
    "from nltk.stem import SnowballStemmer\n",
    "ss = SnowballStemmer(\"english\")\n",
    "ps = PorterStemmer()\n",
    "\n",
    "#from wordcloud import WordCloud\n",
    "from nltk.tokenize import word_tokenize\n",
    "\n",
    "from sklearn.metrics import accuracy_score,fbeta_score,classification_report"
   ]
  },
  {
   "cell_type": "code",
   "execution_count": 22,
   "metadata": {},
   "outputs": [],
   "source": [
    "def clean_text(text):\n",
    "    nopunc=[txt for txt in text if text not in string.punctuation]\n",
    "    nopunc=''.join(nopunc)\n",
    "    \n",
    "    clean_words=[word for word in nopunc.split() if word.lower() not in stopwords.words('english')]\n",
    "    #clean_words=''.join(clean_words)\n",
    "    \n",
    "    return clean_words"
   ]
  },
  {
   "cell_type": "code",
   "execution_count": 23,
   "metadata": {},
   "outputs": [],
   "source": [
    "\n",
    "def join_func(text1,text2):\n",
    "    text=text1.strip()+' '+text2.strip()\n",
    "    \n",
    "    return text"
   ]
  },
  {
   "cell_type": "code",
   "execution_count": 24,
   "metadata": {},
   "outputs": [
    {
     "name": "stderr",
     "output_type": "stream",
     "text": [
      "<ipython-input-24-51ed8b3cef63>:1: SettingWithCopyWarning: \n",
      "A value is trying to be set on a copy of a slice from a DataFrame.\n",
      "Try using .loc[row_indexer,col_indexer] = value instead\n",
      "\n",
      "See the caveats in the documentation: https://pandas.pydata.org/pandas-docs/stable/user_guide/indexing.html#returning-a-view-versus-a-copy\n",
      "  df_mail_new['subject message']=df_mail_new.apply(lambda x:join_func(x['subject'],x['message']),axis=1).reset_index().drop('index',axis=1)\n"
     ]
    }
   ],
   "source": [
    "df_mail_new['subject message']=df_mail_new.apply(lambda x:join_func(x['subject'],x['message']),axis=1).reset_index().drop('index',axis=1)"
   ]
  },
  {
   "cell_type": "code",
   "execution_count": 25,
   "metadata": {},
   "outputs": [
    {
     "data": {
      "text/plain": [
       "subject               0\n",
       "message               0\n",
       "label                 0\n",
       "length of subject     0\n",
       "length of message     0\n",
       "subject message      79\n",
       "dtype: int64"
      ]
     },
     "execution_count": 25,
     "metadata": {},
     "output_type": "execute_result"
    }
   ],
   "source": [
    "df_mail_new.isna().sum()"
   ]
  },
  {
   "cell_type": "code",
   "execution_count": 26,
   "metadata": {},
   "outputs": [],
   "source": [
    "df_mail_final = df_mail_new.dropna(axis=0)"
   ]
  },
  {
   "cell_type": "code",
   "execution_count": 27,
   "metadata": {},
   "outputs": [
    {
     "data": {
      "text/html": [
       "<div>\n",
       "<style scoped>\n",
       "    .dataframe tbody tr th:only-of-type {\n",
       "        vertical-align: middle;\n",
       "    }\n",
       "\n",
       "    .dataframe tbody tr th {\n",
       "        vertical-align: top;\n",
       "    }\n",
       "\n",
       "    .dataframe thead th {\n",
       "        text-align: right;\n",
       "    }\n",
       "</style>\n",
       "<table border=\"1\" class=\"dataframe\">\n",
       "  <thead>\n",
       "    <tr style=\"text-align: right;\">\n",
       "      <th></th>\n",
       "      <th>subject</th>\n",
       "      <th>message</th>\n",
       "      <th>label</th>\n",
       "      <th>length of subject</th>\n",
       "      <th>length of message</th>\n",
       "      <th>subject message</th>\n",
       "    </tr>\n",
       "  </thead>\n",
       "  <tbody>\n",
       "    <tr>\n",
       "      <th>0</th>\n",
       "      <td>job posting - apple-iss research center</td>\n",
       "      <td>content - length : 3386 apple-iss research cen...</td>\n",
       "      <td>0</td>\n",
       "      <td>39</td>\n",
       "      <td>2856</td>\n",
       "      <td>job posting - apple-iss research center conten...</td>\n",
       "    </tr>\n",
       "    <tr>\n",
       "      <th>2</th>\n",
       "      <td>query : letter frequencies for text identifica...</td>\n",
       "      <td>i am posting this inquiry for sergei atamas ( ...</td>\n",
       "      <td>0</td>\n",
       "      <td>50</td>\n",
       "      <td>1435</td>\n",
       "      <td>risk a colleague and i are researching the dif...</td>\n",
       "    </tr>\n",
       "    <tr>\n",
       "      <th>3</th>\n",
       "      <td>risk</td>\n",
       "      <td>a colleague and i are researching the differin...</td>\n",
       "      <td>0</td>\n",
       "      <td>4</td>\n",
       "      <td>324</td>\n",
       "      <td>request book information earlier this morning ...</td>\n",
       "    </tr>\n",
       "    <tr>\n",
       "      <th>4</th>\n",
       "      <td>request book information</td>\n",
       "      <td>earlier this morning i was on the phone with a...</td>\n",
       "      <td>0</td>\n",
       "      <td>24</td>\n",
       "      <td>1046</td>\n",
       "      <td>call for abstracts : optimality in syntactic t...</td>\n",
       "    </tr>\n",
       "    <tr>\n",
       "      <th>5</th>\n",
       "      <td>call for abstracts : optimality in syntactic t...</td>\n",
       "      <td>content - length : 4437 call for papers is the...</td>\n",
       "      <td>0</td>\n",
       "      <td>51</td>\n",
       "      <td>4492</td>\n",
       "      <td>m . a . in scandinavian linguistics m . a . in...</td>\n",
       "    </tr>\n",
       "  </tbody>\n",
       "</table>\n",
       "</div>"
      ],
      "text/plain": [
       "                                             subject  \\\n",
       "0            job posting - apple-iss research center   \n",
       "2  query : letter frequencies for text identifica...   \n",
       "3                                               risk   \n",
       "4                           request book information   \n",
       "5  call for abstracts : optimality in syntactic t...   \n",
       "\n",
       "                                             message  label  \\\n",
       "0  content - length : 3386 apple-iss research cen...      0   \n",
       "2  i am posting this inquiry for sergei atamas ( ...      0   \n",
       "3  a colleague and i are researching the differin...      0   \n",
       "4  earlier this morning i was on the phone with a...      0   \n",
       "5  content - length : 4437 call for papers is the...      0   \n",
       "\n",
       "   length of subject  length of message  \\\n",
       "0                 39               2856   \n",
       "2                 50               1435   \n",
       "3                  4                324   \n",
       "4                 24               1046   \n",
       "5                 51               4492   \n",
       "\n",
       "                                     subject message  \n",
       "0  job posting - apple-iss research center conten...  \n",
       "2  risk a colleague and i are researching the dif...  \n",
       "3  request book information earlier this morning ...  \n",
       "4  call for abstracts : optimality in syntactic t...  \n",
       "5  m . a . in scandinavian linguistics m . a . in...  "
      ]
     },
     "execution_count": 27,
     "metadata": {},
     "output_type": "execute_result"
    }
   ],
   "source": [
    "df_mail_final.head()"
   ]
  },
  {
   "cell_type": "code",
   "execution_count": 28,
   "metadata": {},
   "outputs": [],
   "source": [
    "from sklearn.feature_extraction.text import CountVectorizer\n",
    "from sklearn.model_selection import train_test_split\n",
    "from sklearn.metrics import confusion_matrix, classification_report\n",
    "from nltk.corpus import stopwords\n",
    "from sklearn.naive_bayes import MultinomialNB\n",
    "from sklearn.ensemble import RandomForestClassifier\n",
    "from sklearn.model_selection import GridSearchCV"
   ]
  },
  {
   "cell_type": "code",
   "execution_count": 29,
   "metadata": {},
   "outputs": [],
   "source": [
    "message_bow=CountVectorizer(analyzer=clean_text).fit_transform(df_mail_final['subject message'])"
   ]
  },
  {
   "cell_type": "code",
   "execution_count": 30,
   "metadata": {},
   "outputs": [
    {
     "data": {
      "text/plain": [
       "(2735, 63393)"
      ]
     },
     "execution_count": 30,
     "metadata": {},
     "output_type": "execute_result"
    }
   ],
   "source": [
    "message_bow.shape"
   ]
  },
  {
   "cell_type": "code",
   "execution_count": 32,
   "metadata": {},
   "outputs": [],
   "source": [
    "X_train, X_test, y_train, y_test = train_test_split(message_bow, df_mail_final['label'], test_size=0.25, random_state=42,)"
   ]
  },
  {
   "cell_type": "code",
   "execution_count": 33,
   "metadata": {},
   "outputs": [
    {
     "data": {
      "text/plain": [
       "MultinomialNB()"
      ]
     },
     "execution_count": 33,
     "metadata": {},
     "output_type": "execute_result"
    }
   ],
   "source": [
    "model=MultinomialNB()\n",
    "model.fit(X_train,y_train)"
   ]
  },
  {
   "cell_type": "code",
   "execution_count": 34,
   "metadata": {},
   "outputs": [],
   "source": [
    "predict=model.predict(X_test)"
   ]
  },
  {
   "cell_type": "code",
   "execution_count": 35,
   "metadata": {},
   "outputs": [
    {
     "name": "stdout",
     "output_type": "stream",
     "text": [
      "[[530 108]\n",
      " [ 40   6]]\n",
      "\n",
      "              precision    recall  f1-score   support\n",
      "\n",
      "           0       0.93      0.83      0.88       638\n",
      "           1       0.05      0.13      0.07        46\n",
      "\n",
      "    accuracy                           0.78       684\n",
      "   macro avg       0.49      0.48      0.48       684\n",
      "weighted avg       0.87      0.78      0.82       684\n",
      "\n"
     ]
    }
   ],
   "source": [
    "\n",
    "print(confusion_matrix(predict,y_test))\n",
    "print()\n",
    "print(classification_report(predict,y_test))\n"
   ]
  },
  {
   "cell_type": "code",
   "execution_count": 36,
   "metadata": {},
   "outputs": [
    {
     "data": {
      "text/plain": [
       "RandomForestClassifier()"
      ]
     },
     "execution_count": 36,
     "metadata": {},
     "output_type": "execute_result"
    }
   ],
   "source": [
    "\n",
    "model=RandomForestClassifier()\n",
    "model.fit(X_train,y_train)"
   ]
  },
  {
   "cell_type": "code",
   "execution_count": 37,
   "metadata": {},
   "outputs": [],
   "source": [
    "\n",
    "predict=model.predict(X_test)"
   ]
  },
  {
   "cell_type": "code",
   "execution_count": 38,
   "metadata": {},
   "outputs": [
    {
     "name": "stdout",
     "output_type": "stream",
     "text": [
      "[[562 113]\n",
      " [  8   1]]\n",
      "\n",
      "              precision    recall  f1-score   support\n",
      "\n",
      "           0       0.99      0.83      0.90       675\n",
      "           1       0.01      0.11      0.02         9\n",
      "\n",
      "    accuracy                           0.82       684\n",
      "   macro avg       0.50      0.47      0.46       684\n",
      "weighted avg       0.97      0.82      0.89       684\n",
      "\n"
     ]
    }
   ],
   "source": [
    "print(confusion_matrix(predict,y_test))\n",
    "print()\n",
    "print(classification_report(predict,y_test))"
   ]
  },
  {
   "cell_type": "code",
   "execution_count": 39,
   "metadata": {},
   "outputs": [],
   "source": [
    "\n",
    "g_params={'n_estimators':[100,150,200,250,300]}\n",
    "gscv=GridSearchCV(RandomForestClassifier(),g_params)\n"
   ]
  },
  {
   "cell_type": "code",
   "execution_count": 40,
   "metadata": {},
   "outputs": [
    {
     "data": {
      "text/plain": [
       "GridSearchCV(estimator=RandomForestClassifier(),\n",
       "             param_grid={'n_estimators': [100, 150, 200, 250, 300]})"
      ]
     },
     "execution_count": 40,
     "metadata": {},
     "output_type": "execute_result"
    }
   ],
   "source": [
    "\n",
    "gscv.fit(X_train,y_train)"
   ]
  },
  {
   "cell_type": "code",
   "execution_count": 41,
   "metadata": {},
   "outputs": [
    {
     "data": {
      "text/plain": [
       "{'n_estimators': 150}"
      ]
     },
     "execution_count": 41,
     "metadata": {},
     "output_type": "execute_result"
    }
   ],
   "source": [
    "gscv.best_params_"
   ]
  },
  {
   "cell_type": "code",
   "execution_count": null,
   "metadata": {},
   "outputs": [],
   "source": []
  }
 ],
 "metadata": {
  "hide_input": false,
  "kernelspec": {
   "display_name": "Python 3",
   "language": "python",
   "name": "python3"
  },
  "language_info": {
   "codemirror_mode": {
    "name": "ipython",
    "version": 3
   },
   "file_extension": ".py",
   "mimetype": "text/x-python",
   "name": "python",
   "nbconvert_exporter": "python",
   "pygments_lexer": "ipython3",
   "version": "3.8.5"
  },
  "latex_envs": {
   "LaTeX_envs_menu_present": true,
   "autoclose": true,
   "autocomplete": true,
   "bibliofile": "biblio.bib",
   "cite_by": "apalike",
   "current_citInitial": 1,
   "eqLabelWithNumbers": true,
   "eqNumInitial": 1,
   "hotkeys": {
    "equation": "Ctrl-E",
    "itemize": "Ctrl-I"
   },
   "labels_anchors": false,
   "latex_user_defs": false,
   "report_style_numbering": false,
   "user_envs_cfg": false
  },
  "nbTranslate": {
   "displayLangs": [
    "*"
   ],
   "hotkey": "alt-t",
   "langInMainMenu": true,
   "sourceLang": "en",
   "targetLang": "fr",
   "useGoogleTranslate": true
  },
  "toc": {
   "base_numbering": 1,
   "nav_menu": {},
   "number_sections": true,
   "sideBar": true,
   "skip_h1_title": false,
   "title_cell": "Table of Contents",
   "title_sidebar": "Contents",
   "toc_cell": false,
   "toc_position": {},
   "toc_section_display": true,
   "toc_window_display": false
  },
  "varInspector": {
   "cols": {
    "lenName": 16,
    "lenType": 16,
    "lenVar": 40
   },
   "kernels_config": {
    "python": {
     "delete_cmd_postfix": "",
     "delete_cmd_prefix": "del ",
     "library": "var_list.py",
     "varRefreshCmd": "print(var_dic_list())"
    },
    "r": {
     "delete_cmd_postfix": ") ",
     "delete_cmd_prefix": "rm(",
     "library": "var_list.r",
     "varRefreshCmd": "cat(var_dic_list()) "
    }
   },
   "position": {
    "height": "292px",
    "left": "284px",
    "right": "20px",
    "top": "100px",
    "width": "353px"
   },
   "types_to_exclude": [
    "module",
    "function",
    "builtin_function_or_method",
    "instance",
    "_Feature"
   ],
   "window_display": false
  }
 },
 "nbformat": 4,
 "nbformat_minor": 4
}
