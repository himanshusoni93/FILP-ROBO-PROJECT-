{
  "nbformat": 4,
  "nbformat_minor": 0,
  "metadata": {
    "kernelspec": {
      "display_name": "Python 3",
      "language": "python",
      "name": "python3"
    },
    "language_info": {
      "codemirror_mode": {
        "name": "ipython",
        "version": 3
      },
      "file_extension": ".py",
      "mimetype": "text/x-python",
      "name": "python",
      "nbconvert_exporter": "python",
      "pygments_lexer": "ipython3",
      "version": "3.8.3"
    },
    "colab": {
      "name": "webscrapping_image.ipynb",
      "provenance": []
    }
  },
  "cells": [
    {
      "cell_type": "markdown",
      "metadata": {
        "id": "25AXfieXvRns"
      },
      "source": [
        "#### Problem statement:\n",
        "Scrape images from e-commerce portal, Amazon.in. The clothing categories used for scraping will be:\n",
        "-\tSarees (women)\n",
        "-\tTrousers (men)\n",
        "-\tJeans (men)\n"
      ]
    },
    {
      "cell_type": "code",
      "metadata": {
        "id": "1Fi5YuQQvRnu"
      },
      "source": [
        "from selenium import webdriver\n",
        "import pandas as pd\n",
        "import requests\n",
        "import os"
      ],
      "execution_count": null,
      "outputs": []
    },
    {
      "cell_type": "code",
      "metadata": {
        "id": "wN6hxNRFvRnw"
      },
      "source": [
        "driver=webdriver.Chrome(executable_path='chromedriver.exe')"
      ],
      "execution_count": null,
      "outputs": []
    },
    {
      "cell_type": "code",
      "metadata": {
        "id": "ZTA1qGGGvRnx"
      },
      "source": [
        "# Function to get image urls\n",
        "def get_url(url):\n",
        "    page=driver.get(url)\n",
        "    images=driver.find_elements_by_xpath(\"//img[@class='s-image']\")\n",
        "    urls=[]\n",
        "    for image in images:\n",
        "        source=image.get_attribute('src')\n",
        "        urls.append(source)\n",
        "    return urls"
      ],
      "execution_count": null,
      "outputs": []
    },
    {
      "cell_type": "code",
      "metadata": {
        "id": "IX6yM3NJvRnx",
        "outputId": "a1f76b63-e44f-401f-b54d-9356132a1c37"
      },
      "source": [
        "# Urls for Saree\n",
        "url1 = 'https://www.amazon.in/s?k=sarees&ref=nb_sb_noss_2'\n",
        "url2 = 'https://www.amazon.in/s?k=sarees&page=2&qid=1609572653&ref=sr_pg_2'\n",
        "url3 = 'https://www.amazon.in/s?k=sarees&page=3&qid=1609573118&ref=sr_pg_3'\n",
        "url4 = 'https://www.amazon.in/s?k=sarees&page=4&qid=1609573408&ref=sr_pg_3'\n",
        "url5 = 'https://www.amazon.in/s?k=sarees&page=5&qid=1609573457&ref=sr_pg_4'\n",
        "url6 = 'https://www.amazon.in/s?k=sarees&page=6&qid=1609573469&ref=sr_pg_6'\n",
        "url7 = 'https://www.amazon.in/s?k=sarees&page=7&qid=1609573542&ref=sr_pg_7'\n",
        "url_sarees = get_url(url1) + get_url(url2) + get_url(url3) + get_url(url4) + get_url(url5) + get_url(url6) + get_url(url7)\n",
        "len(url_sarees)"
      ],
      "execution_count": null,
      "outputs": [
        {
          "output_type": "execute_result",
          "data": {
            "text/plain": [
              "327"
            ]
          },
          "metadata": {
            "tags": []
          },
          "execution_count": 9
        }
      ]
    },
    {
      "cell_type": "code",
      "metadata": {
        "id": "QLqbqgQ4vRny",
        "outputId": "6d5e99be-7f08-4ead-ebcd-f926faf5d631"
      },
      "source": [
        "# Urls for Trousers\n",
        "url1 = 'https://www.amazon.in/s?k=trousers+for+men&crid=3FEQX2GPVZSPY&sprefix=Trousers+%2Caps%2C501&ref=nb_sb_ss_ts-doa-p_3_9'\n",
        "url2 = 'https://www.amazon.in/s?k=trousers+for+men&page=2&crid=3FEQX2GPVZSPY&qid=1609575025&sprefix=Trousers+%2Caps%2C501&ref=sr_pg_2'\n",
        "url3 = 'https://www.amazon.in/s?k=trousers+for+men&page=3&crid=3FEQX2GPVZSPY&qid=1609575027&sprefix=Trousers+%2Caps%2C501&ref=sr_pg_2'\n",
        "url4 = 'https://www.amazon.in/s?k=trousers+for+men&page=4&crid=3FEQX2GPVZSPY&qid=1609575090&sprefix=Trousers+%2Caps%2C501&ref=sr_pg_4'\n",
        "url5 = 'https://www.amazon.in/s?k=trousers+for+men&page=5&crid=3FEQX2GPVZSPY&qid=1609575105&sprefix=Trousers+%2Caps%2C501&ref=sr_pg_4'\n",
        "url6 = 'https://www.amazon.in/s?k=trousers+for+men&page=6&crid=3FEQX2GPVZSPY&qid=1609575113&sprefix=Trousers+%2Caps%2C501&ref=sr_pg_5'\n",
        "url7 = 'https://www.amazon.in/s?k=trousers+for+men&page=7&crid=3FEQX2GPVZSPY&qid=1609575140&sprefix=Trousers+%2Caps%2C501&ref=sr_pg_6'\n",
        "url_trousers = get_url(url1) + get_url(url2) + get_url(url3) + get_url(url4) + get_url(url5) + get_url(url6) + get_url(url7)\n",
        "len(url_trousers)"
      ],
      "execution_count": null,
      "outputs": [
        {
          "output_type": "execute_result",
          "data": {
            "text/plain": [
              "318"
            ]
          },
          "metadata": {
            "tags": []
          },
          "execution_count": 11
        }
      ]
    },
    {
      "cell_type": "code",
      "metadata": {
        "id": "yYLya7dIvRnz",
        "outputId": "488f9211-1012-4a2d-f04e-2d6462c8ecc6"
      },
      "source": [
        "# Urls for Jeans\n",
        "url1 = 'https://www.amazon.in/s?k=jeans+for+men&ref=nb_sb_noss_2'\n",
        "url2 = 'https://www.amazon.in/s?k=jeans+for+men&page=2&qid=1609575186&ref=sr_pg_1'\n",
        "url3 = 'https://www.amazon.in/s?k=jeans+for+men&page=3&qid=1609575190&ref=sr_pg_2'\n",
        "url4 = 'https://www.amazon.in/s?k=jeans+for+men&page=4&qid=1609575229&ref=sr_pg_3'\n",
        "url5 = 'https://www.amazon.in/s?k=jeans+for+men&page=5&qid=1609575237&ref=sr_pg_4'\n",
        "url6 = 'https://www.amazon.in/s?k=jeans+for+men&page=6&qid=1609575261&ref=sr_pg_5'\n",
        "url7 = 'https://www.amazon.in/s?k=jeans+for+men&page=7&qid=1609575283&ref=sr_pg_6'\n",
        "url_jeans = get_url(url1) + get_url(url2) + get_url(url3) + get_url(url4) + get_url(url5) + get_url(url6) + get_url(url7)\n",
        "len(url_jeans)"
      ],
      "execution_count": null,
      "outputs": [
        {
          "output_type": "execute_result",
          "data": {
            "text/plain": [
              "367"
            ]
          },
          "metadata": {
            "tags": []
          },
          "execution_count": 13
        }
      ]
    },
    {
      "cell_type": "code",
      "metadata": {
        "id": "MC6W937ovRnz"
      },
      "source": [
        "def download_images(url_list, folder_name):\n",
        "    print(f\"downloading {len(url_list)} images\")\n",
        "    for index,link in enumerate(url_list):\n",
        "#         print(f\"downloading {index+1} of {len(url_list)}\")\n",
        "        response=requests.get(link)\n",
        "        with open(f\"D:/anaconda3/Machine_Learning/FlipRobo/Projects/Image Scraping and Classification Project/{folder_name}/Img_{index}.jpeg\",'wb') as file:\n",
        "            file.write(response.content)"
      ],
      "execution_count": null,
      "outputs": []
    },
    {
      "cell_type": "code",
      "metadata": {
        "id": "VavJD6lcvRn0",
        "outputId": "2bf7ebf6-3f35-486b-9d0d-a87187bb2cbe"
      },
      "source": [
        "download_images(url_sarees, \"Sarees\")"
      ],
      "execution_count": null,
      "outputs": [
        {
          "output_type": "stream",
          "text": [
            "downloading 327 images\n"
          ],
          "name": "stdout"
        }
      ]
    },
    {
      "cell_type": "code",
      "metadata": {
        "id": "EmwErWDwvRn0",
        "outputId": "cf18f8be-8891-4ade-cd70-0612c1d21e9d"
      },
      "source": [
        "download_images(url_trousers, \"Trousers\")\n"
      ],
      "execution_count": null,
      "outputs": [
        {
          "output_type": "stream",
          "text": [
            "downloading 318 images\n"
          ],
          "name": "stdout"
        }
      ]
    },
    {
      "cell_type": "code",
      "metadata": {
        "id": "jWiH_OBavRn0",
        "outputId": "3a6103a5-93c8-49b9-87e2-5e70504e9efa"
      },
      "source": [
        "download_images(url_jeans, \"Jeans\")\n"
      ],
      "execution_count": null,
      "outputs": [
        {
          "output_type": "stream",
          "text": [
            "downloading 367 images\n"
          ],
          "name": "stdout"
        }
      ]
    },
    {
      "cell_type": "code",
      "metadata": {
        "id": "FM31RomUvRn1"
      },
      "source": [
        ""
      ],
      "execution_count": null,
      "outputs": []
    }
  ]
}